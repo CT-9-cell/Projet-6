{
 "cells": [
  {
   "cell_type": "code",
   "execution_count": 98,
   "id": "aa6ab58a",
   "metadata": {},
   "outputs": [],
   "source": [
    "import pandas as pd\n",
    "from datetime import datetime\n",
    "import numpy as np\n",
    "import seaborn as sns\n",
    "import plotly.express as px\n",
    "import matplotlib.pyplot as plt\n",
    "from scipy.stats import chi2_contingency\n",
    "import scipy as sp"
   ]
  },
  {
   "cell_type": "raw",
   "id": "43625718",
   "metadata": {},
   "source": [
    "1ère étape :import, nettoyage et exploration des différents fichiers CSV. "
   ]
  },
  {
   "cell_type": "markdown",
   "id": "f931324a",
   "metadata": {},
   "source": [
    "# Import des données clients"
   ]
  },
  {
   "cell_type": "code",
   "execution_count": 99,
   "id": "876b575c",
   "metadata": {},
   "outputs": [
    {
     "data": {
      "text/html": [
       "<div>\n",
       "<style scoped>\n",
       "    .dataframe tbody tr th:only-of-type {\n",
       "        vertical-align: middle;\n",
       "    }\n",
       "\n",
       "    .dataframe tbody tr th {\n",
       "        vertical-align: top;\n",
       "    }\n",
       "\n",
       "    .dataframe thead th {\n",
       "        text-align: right;\n",
       "    }\n",
       "</style>\n",
       "<table border=\"1\" class=\"dataframe\">\n",
       "  <thead>\n",
       "    <tr style=\"text-align: right;\">\n",
       "      <th></th>\n",
       "      <th>client_id</th>\n",
       "      <th>sex</th>\n",
       "      <th>birth</th>\n",
       "    </tr>\n",
       "  </thead>\n",
       "  <tbody>\n",
       "    <tr>\n",
       "      <th>0</th>\n",
       "      <td>c_4410</td>\n",
       "      <td>f</td>\n",
       "      <td>1967</td>\n",
       "    </tr>\n",
       "    <tr>\n",
       "      <th>1</th>\n",
       "      <td>c_7839</td>\n",
       "      <td>f</td>\n",
       "      <td>1975</td>\n",
       "    </tr>\n",
       "    <tr>\n",
       "      <th>2</th>\n",
       "      <td>c_1699</td>\n",
       "      <td>f</td>\n",
       "      <td>1984</td>\n",
       "    </tr>\n",
       "    <tr>\n",
       "      <th>3</th>\n",
       "      <td>c_5961</td>\n",
       "      <td>f</td>\n",
       "      <td>1962</td>\n",
       "    </tr>\n",
       "    <tr>\n",
       "      <th>4</th>\n",
       "      <td>c_5320</td>\n",
       "      <td>m</td>\n",
       "      <td>1943</td>\n",
       "    </tr>\n",
       "    <tr>\n",
       "      <th>...</th>\n",
       "      <td>...</td>\n",
       "      <td>...</td>\n",
       "      <td>...</td>\n",
       "    </tr>\n",
       "    <tr>\n",
       "      <th>8616</th>\n",
       "      <td>c_7920</td>\n",
       "      <td>m</td>\n",
       "      <td>1956</td>\n",
       "    </tr>\n",
       "    <tr>\n",
       "      <th>8617</th>\n",
       "      <td>c_7403</td>\n",
       "      <td>f</td>\n",
       "      <td>1970</td>\n",
       "    </tr>\n",
       "    <tr>\n",
       "      <th>8618</th>\n",
       "      <td>c_5119</td>\n",
       "      <td>m</td>\n",
       "      <td>1974</td>\n",
       "    </tr>\n",
       "    <tr>\n",
       "      <th>8619</th>\n",
       "      <td>c_5643</td>\n",
       "      <td>f</td>\n",
       "      <td>1968</td>\n",
       "    </tr>\n",
       "    <tr>\n",
       "      <th>8620</th>\n",
       "      <td>c_84</td>\n",
       "      <td>f</td>\n",
       "      <td>1982</td>\n",
       "    </tr>\n",
       "  </tbody>\n",
       "</table>\n",
       "<p>8621 rows × 3 columns</p>\n",
       "</div>"
      ],
      "text/plain": [
       "     client_id sex  birth\n",
       "0       c_4410   f   1967\n",
       "1       c_7839   f   1975\n",
       "2       c_1699   f   1984\n",
       "3       c_5961   f   1962\n",
       "4       c_5320   m   1943\n",
       "...        ...  ..    ...\n",
       "8616    c_7920   m   1956\n",
       "8617    c_7403   f   1970\n",
       "8618    c_5119   m   1974\n",
       "8619    c_5643   f   1968\n",
       "8620      c_84   f   1982\n",
       "\n",
       "[8621 rows x 3 columns]"
      ]
     },
     "execution_count": 99,
     "metadata": {},
     "output_type": "execute_result"
    }
   ],
   "source": [
    "# Import du fichier client \n",
    "\n",
    "datacustomers = pd.read_csv(\"customers.csv\",sep=\";\")\n",
    "datacustomers"
   ]
  },
  {
   "cell_type": "markdown",
   "id": "88e17f14",
   "metadata": {},
   "source": [
    "# Vérification des données clients"
   ]
  },
  {
   "cell_type": "code",
   "execution_count": 100,
   "id": "2b78e0a1",
   "metadata": {},
   "outputs": [
    {
     "name": "stdout",
     "output_type": "stream",
     "text": [
      "client_id    0\n",
      "sex          0\n",
      "birth        0\n",
      "dtype: int64\n"
     ]
    }
   ],
   "source": [
    "# Recherche des valeurs null\n",
    "\n",
    "print(datacustomers.isnull().sum())"
   ]
  },
  {
   "cell_type": "code",
   "execution_count": 101,
   "id": "830f801d",
   "metadata": {},
   "outputs": [
    {
     "data": {
      "text/html": [
       "<div>\n",
       "<style scoped>\n",
       "    .dataframe tbody tr th:only-of-type {\n",
       "        vertical-align: middle;\n",
       "    }\n",
       "\n",
       "    .dataframe tbody tr th {\n",
       "        vertical-align: top;\n",
       "    }\n",
       "\n",
       "    .dataframe thead th {\n",
       "        text-align: right;\n",
       "    }\n",
       "</style>\n",
       "<table border=\"1\" class=\"dataframe\">\n",
       "  <thead>\n",
       "    <tr style=\"text-align: right;\">\n",
       "      <th></th>\n",
       "      <th>client_id</th>\n",
       "      <th>sex</th>\n",
       "      <th>birth</th>\n",
       "    </tr>\n",
       "  </thead>\n",
       "  <tbody>\n",
       "  </tbody>\n",
       "</table>\n",
       "</div>"
      ],
      "text/plain": [
       "Empty DataFrame\n",
       "Columns: [client_id, sex, birth]\n",
       "Index: []"
      ]
     },
     "execution_count": 101,
     "metadata": {},
     "output_type": "execute_result"
    }
   ],
   "source": [
    "# Recherche des doublons\n",
    "\n",
    "datacustomers.loc[datacustomers['client_id'].duplicated(keep=False),:]"
   ]
  },
  {
   "cell_type": "code",
   "execution_count": 102,
   "id": "968efd32",
   "metadata": {},
   "outputs": [
    {
     "data": {
      "text/plain": [
       "8621"
      ]
     },
     "execution_count": 102,
     "metadata": {},
     "output_type": "execute_result"
    }
   ],
   "source": [
    "# Vérification de la colonne client_id\n",
    "\n",
    "datacustomers['client_id'].nunique()"
   ]
  },
  {
   "cell_type": "markdown",
   "id": "6d52f37d",
   "metadata": {},
   "source": [
    "La colonne client_id est bien la clé primaire du dataframe datacustomers "
   ]
  },
  {
   "cell_type": "markdown",
   "id": "f3b03cbc",
   "metadata": {},
   "source": [
    "# Import des données produits"
   ]
  },
  {
   "cell_type": "code",
   "execution_count": 103,
   "id": "f1b791e5",
   "metadata": {},
   "outputs": [
    {
     "data": {
      "text/html": [
       "<div>\n",
       "<style scoped>\n",
       "    .dataframe tbody tr th:only-of-type {\n",
       "        vertical-align: middle;\n",
       "    }\n",
       "\n",
       "    .dataframe tbody tr th {\n",
       "        vertical-align: top;\n",
       "    }\n",
       "\n",
       "    .dataframe thead th {\n",
       "        text-align: right;\n",
       "    }\n",
       "</style>\n",
       "<table border=\"1\" class=\"dataframe\">\n",
       "  <thead>\n",
       "    <tr style=\"text-align: right;\">\n",
       "      <th></th>\n",
       "      <th>id_prod</th>\n",
       "      <th>price</th>\n",
       "      <th>categ</th>\n",
       "    </tr>\n",
       "  </thead>\n",
       "  <tbody>\n",
       "    <tr>\n",
       "      <th>0</th>\n",
       "      <td>0_1421</td>\n",
       "      <td>19.99</td>\n",
       "      <td>0</td>\n",
       "    </tr>\n",
       "    <tr>\n",
       "      <th>1</th>\n",
       "      <td>0_1368</td>\n",
       "      <td>5.13</td>\n",
       "      <td>0</td>\n",
       "    </tr>\n",
       "    <tr>\n",
       "      <th>2</th>\n",
       "      <td>0_731</td>\n",
       "      <td>17.99</td>\n",
       "      <td>0</td>\n",
       "    </tr>\n",
       "    <tr>\n",
       "      <th>3</th>\n",
       "      <td>1_587</td>\n",
       "      <td>4.99</td>\n",
       "      <td>1</td>\n",
       "    </tr>\n",
       "    <tr>\n",
       "      <th>4</th>\n",
       "      <td>0_1507</td>\n",
       "      <td>3.99</td>\n",
       "      <td>0</td>\n",
       "    </tr>\n",
       "    <tr>\n",
       "      <th>...</th>\n",
       "      <td>...</td>\n",
       "      <td>...</td>\n",
       "      <td>...</td>\n",
       "    </tr>\n",
       "    <tr>\n",
       "      <th>3281</th>\n",
       "      <td>2_23</td>\n",
       "      <td>115.99</td>\n",
       "      <td>2</td>\n",
       "    </tr>\n",
       "    <tr>\n",
       "      <th>3282</th>\n",
       "      <td>0_146</td>\n",
       "      <td>17.14</td>\n",
       "      <td>0</td>\n",
       "    </tr>\n",
       "    <tr>\n",
       "      <th>3283</th>\n",
       "      <td>0_802</td>\n",
       "      <td>11.22</td>\n",
       "      <td>0</td>\n",
       "    </tr>\n",
       "    <tr>\n",
       "      <th>3284</th>\n",
       "      <td>1_140</td>\n",
       "      <td>38.56</td>\n",
       "      <td>1</td>\n",
       "    </tr>\n",
       "    <tr>\n",
       "      <th>3285</th>\n",
       "      <td>0_1920</td>\n",
       "      <td>25.16</td>\n",
       "      <td>0</td>\n",
       "    </tr>\n",
       "  </tbody>\n",
       "</table>\n",
       "<p>3286 rows × 3 columns</p>\n",
       "</div>"
      ],
      "text/plain": [
       "     id_prod   price  categ\n",
       "0     0_1421   19.99      0\n",
       "1     0_1368    5.13      0\n",
       "2      0_731   17.99      0\n",
       "3      1_587    4.99      1\n",
       "4     0_1507    3.99      0\n",
       "...      ...     ...    ...\n",
       "3281    2_23  115.99      2\n",
       "3282   0_146   17.14      0\n",
       "3283   0_802   11.22      0\n",
       "3284   1_140   38.56      1\n",
       "3285  0_1920   25.16      0\n",
       "\n",
       "[3286 rows x 3 columns]"
      ]
     },
     "execution_count": 103,
     "metadata": {},
     "output_type": "execute_result"
    }
   ],
   "source": [
    "# Import du fichier produit\n",
    "\n",
    "dataproducts = pd.read_csv(\"products.csv\",sep=\";\")\n",
    "dataproducts"
   ]
  },
  {
   "cell_type": "markdown",
   "id": "85e23a32",
   "metadata": {},
   "source": [
    "# Vérification des données produits"
   ]
  },
  {
   "cell_type": "code",
   "execution_count": 104,
   "id": "b9110857",
   "metadata": {},
   "outputs": [
    {
     "name": "stdout",
     "output_type": "stream",
     "text": [
      "<class 'pandas.core.frame.DataFrame'>\n",
      "RangeIndex: 3286 entries, 0 to 3285\n",
      "Data columns (total 3 columns):\n",
      " #   Column   Non-Null Count  Dtype  \n",
      "---  ------   --------------  -----  \n",
      " 0   id_prod  3286 non-null   object \n",
      " 1   price    3286 non-null   float64\n",
      " 2   categ    3286 non-null   int64  \n",
      "dtypes: float64(1), int64(1), object(1)\n",
      "memory usage: 77.1+ KB\n"
     ]
    }
   ],
   "source": [
    "# Infos du fichier produit\n",
    "\n",
    "dataproducts.info()"
   ]
  },
  {
   "cell_type": "code",
   "execution_count": 105,
   "id": "028f6b1f",
   "metadata": {},
   "outputs": [
    {
     "name": "stdout",
     "output_type": "stream",
     "text": [
      "id_prod    0\n",
      "price      0\n",
      "categ      0\n",
      "dtype: int64\n"
     ]
    }
   ],
   "source": [
    "# Recherche des valeurs null\n",
    "\n",
    "print(dataproducts.isnull().sum())"
   ]
  },
  {
   "cell_type": "code",
   "execution_count": 106,
   "id": "4b667150",
   "metadata": {},
   "outputs": [
    {
     "data": {
      "text/html": [
       "<div>\n",
       "<style scoped>\n",
       "    .dataframe tbody tr th:only-of-type {\n",
       "        vertical-align: middle;\n",
       "    }\n",
       "\n",
       "    .dataframe tbody tr th {\n",
       "        vertical-align: top;\n",
       "    }\n",
       "\n",
       "    .dataframe thead th {\n",
       "        text-align: right;\n",
       "    }\n",
       "</style>\n",
       "<table border=\"1\" class=\"dataframe\">\n",
       "  <thead>\n",
       "    <tr style=\"text-align: right;\">\n",
       "      <th></th>\n",
       "      <th>id_prod</th>\n",
       "      <th>price</th>\n",
       "      <th>categ</th>\n",
       "    </tr>\n",
       "  </thead>\n",
       "  <tbody>\n",
       "  </tbody>\n",
       "</table>\n",
       "</div>"
      ],
      "text/plain": [
       "Empty DataFrame\n",
       "Columns: [id_prod, price, categ]\n",
       "Index: []"
      ]
     },
     "execution_count": 106,
     "metadata": {},
     "output_type": "execute_result"
    }
   ],
   "source": [
    "# Recherche des doublons\n",
    "dataproducts.loc[dataproducts['id_prod'].duplicated(keep=False),:]"
   ]
  },
  {
   "cell_type": "code",
   "execution_count": 107,
   "id": "5287a5e6",
   "metadata": {},
   "outputs": [
    {
     "data": {
      "text/plain": [
       "3286"
      ]
     },
     "execution_count": 107,
     "metadata": {},
     "output_type": "execute_result"
    }
   ],
   "source": [
    "# Vérification de la colonne id_prod\n",
    "dataproducts['id_prod'].nunique()"
   ]
  },
  {
   "cell_type": "markdown",
   "id": "765a31a7",
   "metadata": {},
   "source": [
    "la colonne id_prod est bien notre colonne primaire. "
   ]
  },
  {
   "cell_type": "markdown",
   "id": "55dfdb6b",
   "metadata": {},
   "source": [
    "# Import des données de transactions "
   ]
  },
  {
   "cell_type": "code",
   "execution_count": 108,
   "id": "4f4e0b19",
   "metadata": {},
   "outputs": [
    {
     "data": {
      "text/html": [
       "<div>\n",
       "<style scoped>\n",
       "    .dataframe tbody tr th:only-of-type {\n",
       "        vertical-align: middle;\n",
       "    }\n",
       "\n",
       "    .dataframe tbody tr th {\n",
       "        vertical-align: top;\n",
       "    }\n",
       "\n",
       "    .dataframe thead th {\n",
       "        text-align: right;\n",
       "    }\n",
       "</style>\n",
       "<table border=\"1\" class=\"dataframe\">\n",
       "  <thead>\n",
       "    <tr style=\"text-align: right;\">\n",
       "      <th></th>\n",
       "      <th>id_prod</th>\n",
       "      <th>date</th>\n",
       "      <th>session_id</th>\n",
       "      <th>client_id</th>\n",
       "    </tr>\n",
       "  </thead>\n",
       "  <tbody>\n",
       "    <tr>\n",
       "      <th>0</th>\n",
       "      <td>0_1259</td>\n",
       "      <td>2021-03-01 00:01:07.843138</td>\n",
       "      <td>s_1</td>\n",
       "      <td>c_329</td>\n",
       "    </tr>\n",
       "    <tr>\n",
       "      <th>1</th>\n",
       "      <td>0_1390</td>\n",
       "      <td>2021-03-01 00:02:26.047414</td>\n",
       "      <td>s_2</td>\n",
       "      <td>c_664</td>\n",
       "    </tr>\n",
       "    <tr>\n",
       "      <th>2</th>\n",
       "      <td>0_1352</td>\n",
       "      <td>2021-03-01 00:02:38.311413</td>\n",
       "      <td>s_3</td>\n",
       "      <td>c_580</td>\n",
       "    </tr>\n",
       "    <tr>\n",
       "      <th>3</th>\n",
       "      <td>0_1458</td>\n",
       "      <td>2021-03-01 00:04:54.559692</td>\n",
       "      <td>s_4</td>\n",
       "      <td>c_7912</td>\n",
       "    </tr>\n",
       "    <tr>\n",
       "      <th>4</th>\n",
       "      <td>0_1358</td>\n",
       "      <td>2021-03-01 00:05:18.801198</td>\n",
       "      <td>s_5</td>\n",
       "      <td>c_2033</td>\n",
       "    </tr>\n",
       "    <tr>\n",
       "      <th>...</th>\n",
       "      <td>...</td>\n",
       "      <td>...</td>\n",
       "      <td>...</td>\n",
       "      <td>...</td>\n",
       "    </tr>\n",
       "    <tr>\n",
       "      <th>687529</th>\n",
       "      <td>1_508</td>\n",
       "      <td>2023-02-28 23:49:03.148402</td>\n",
       "      <td>s_348444</td>\n",
       "      <td>c_3573</td>\n",
       "    </tr>\n",
       "    <tr>\n",
       "      <th>687530</th>\n",
       "      <td>2_37</td>\n",
       "      <td>2023-02-28 23:51:29.318531</td>\n",
       "      <td>s_348445</td>\n",
       "      <td>c_50</td>\n",
       "    </tr>\n",
       "    <tr>\n",
       "      <th>687531</th>\n",
       "      <td>1_695</td>\n",
       "      <td>2023-02-28 23:53:18.929676</td>\n",
       "      <td>s_348446</td>\n",
       "      <td>c_488</td>\n",
       "    </tr>\n",
       "    <tr>\n",
       "      <th>687532</th>\n",
       "      <td>0_1547</td>\n",
       "      <td>2023-02-28 23:58:00.107815</td>\n",
       "      <td>s_348447</td>\n",
       "      <td>c_4848</td>\n",
       "    </tr>\n",
       "    <tr>\n",
       "      <th>687533</th>\n",
       "      <td>0_1398</td>\n",
       "      <td>2023-02-28 23:58:30.792755</td>\n",
       "      <td>s_348435</td>\n",
       "      <td>c_3575</td>\n",
       "    </tr>\n",
       "  </tbody>\n",
       "</table>\n",
       "<p>687534 rows × 4 columns</p>\n",
       "</div>"
      ],
      "text/plain": [
       "       id_prod                        date session_id client_id\n",
       "0       0_1259  2021-03-01 00:01:07.843138        s_1     c_329\n",
       "1       0_1390  2021-03-01 00:02:26.047414        s_2     c_664\n",
       "2       0_1352  2021-03-01 00:02:38.311413        s_3     c_580\n",
       "3       0_1458  2021-03-01 00:04:54.559692        s_4    c_7912\n",
       "4       0_1358  2021-03-01 00:05:18.801198        s_5    c_2033\n",
       "...        ...                         ...        ...       ...\n",
       "687529   1_508  2023-02-28 23:49:03.148402   s_348444    c_3573\n",
       "687530    2_37  2023-02-28 23:51:29.318531   s_348445      c_50\n",
       "687531   1_695  2023-02-28 23:53:18.929676   s_348446     c_488\n",
       "687532  0_1547  2023-02-28 23:58:00.107815   s_348447    c_4848\n",
       "687533  0_1398  2023-02-28 23:58:30.792755   s_348435    c_3575\n",
       "\n",
       "[687534 rows x 4 columns]"
      ]
     },
     "execution_count": 108,
     "metadata": {},
     "output_type": "execute_result"
    }
   ],
   "source": [
    "# Import et première vu du fichier transaction\n",
    "\n",
    "datatransactions = pd.read_csv(\"transactions.csv\",sep=\";\")\n",
    "datatransactions"
   ]
  },
  {
   "cell_type": "markdown",
   "id": "224172fc",
   "metadata": {},
   "source": [
    "# Vérification des données de transaction"
   ]
  },
  {
   "cell_type": "code",
   "execution_count": 109,
   "id": "dbe3d035",
   "metadata": {},
   "outputs": [
    {
     "name": "stdout",
     "output_type": "stream",
     "text": [
      "<class 'pandas.core.frame.DataFrame'>\n",
      "RangeIndex: 687534 entries, 0 to 687533\n",
      "Data columns (total 4 columns):\n",
      " #   Column      Non-Null Count   Dtype \n",
      "---  ------      --------------   ----- \n",
      " 0   id_prod     687534 non-null  object\n",
      " 1   date        687534 non-null  object\n",
      " 2   session_id  687534 non-null  object\n",
      " 3   client_id   687534 non-null  object\n",
      "dtypes: object(4)\n",
      "memory usage: 21.0+ MB\n"
     ]
    }
   ],
   "source": [
    "# Info du DataFrame\n",
    "\n",
    "datatransactions.info()"
   ]
  },
  {
   "cell_type": "code",
   "execution_count": 110,
   "id": "628c010b",
   "metadata": {},
   "outputs": [
    {
     "name": "stdout",
     "output_type": "stream",
     "text": [
      "id_prod       0\n",
      "date          0\n",
      "session_id    0\n",
      "client_id     0\n",
      "dtype: int64\n"
     ]
    }
   ],
   "source": [
    "# Recherche des valeurs null\n",
    "\n",
    "print(datatransactions.isnull().sum())"
   ]
  },
  {
   "cell_type": "code",
   "execution_count": 111,
   "id": "2ea15c01",
   "metadata": {},
   "outputs": [
    {
     "data": {
      "text/html": [
       "<div>\n",
       "<style scoped>\n",
       "    .dataframe tbody tr th:only-of-type {\n",
       "        vertical-align: middle;\n",
       "    }\n",
       "\n",
       "    .dataframe tbody tr th {\n",
       "        vertical-align: top;\n",
       "    }\n",
       "\n",
       "    .dataframe thead th {\n",
       "        text-align: right;\n",
       "    }\n",
       "</style>\n",
       "<table border=\"1\" class=\"dataframe\">\n",
       "  <thead>\n",
       "    <tr style=\"text-align: right;\">\n",
       "      <th></th>\n",
       "      <th>id_prod</th>\n",
       "      <th>date</th>\n",
       "      <th>session_id</th>\n",
       "      <th>client_id</th>\n",
       "    </tr>\n",
       "  </thead>\n",
       "  <tbody>\n",
       "  </tbody>\n",
       "</table>\n",
       "</div>"
      ],
      "text/plain": [
       "Empty DataFrame\n",
       "Columns: [id_prod, date, session_id, client_id]\n",
       "Index: []"
      ]
     },
     "execution_count": 111,
     "metadata": {},
     "output_type": "execute_result"
    }
   ],
   "source": [
    "# Recherche des doublons\n",
    "\n",
    "datatransactions.loc[datatransactions[['session_id','id_prod','client_id', 'date']].duplicated(keep=False),:]"
   ]
  },
  {
   "cell_type": "markdown",
   "id": "7a877f4b",
   "metadata": {},
   "source": [
    "# Merge des différents fichiers"
   ]
  },
  {
   "cell_type": "raw",
   "id": "d443159a",
   "metadata": {},
   "source": [
    "2ème étape : Faire la fusion entre les différents fichiers "
   ]
  },
  {
   "cell_type": "code",
   "execution_count": 112,
   "id": "141f94ee",
   "metadata": {},
   "outputs": [
    {
     "data": {
      "text/html": [
       "<div>\n",
       "<style scoped>\n",
       "    .dataframe tbody tr th:only-of-type {\n",
       "        vertical-align: middle;\n",
       "    }\n",
       "\n",
       "    .dataframe tbody tr th {\n",
       "        vertical-align: top;\n",
       "    }\n",
       "\n",
       "    .dataframe thead th {\n",
       "        text-align: right;\n",
       "    }\n",
       "</style>\n",
       "<table border=\"1\" class=\"dataframe\">\n",
       "  <thead>\n",
       "    <tr style=\"text-align: right;\">\n",
       "      <th></th>\n",
       "      <th>id_prod</th>\n",
       "      <th>price</th>\n",
       "      <th>categ</th>\n",
       "      <th>date</th>\n",
       "      <th>session_id</th>\n",
       "      <th>client_id</th>\n",
       "    </tr>\n",
       "  </thead>\n",
       "  <tbody>\n",
       "    <tr>\n",
       "      <th>0</th>\n",
       "      <td>0_1421</td>\n",
       "      <td>19.99</td>\n",
       "      <td>0</td>\n",
       "      <td>2021-03-01 04:13:00.107748</td>\n",
       "      <td>s_101</td>\n",
       "      <td>c_8533</td>\n",
       "    </tr>\n",
       "    <tr>\n",
       "      <th>1</th>\n",
       "      <td>0_1421</td>\n",
       "      <td>19.99</td>\n",
       "      <td>0</td>\n",
       "      <td>2021-03-01 13:48:20.214075</td>\n",
       "      <td>s_285</td>\n",
       "      <td>c_5299</td>\n",
       "    </tr>\n",
       "    <tr>\n",
       "      <th>2</th>\n",
       "      <td>0_1421</td>\n",
       "      <td>19.99</td>\n",
       "      <td>0</td>\n",
       "      <td>2021-03-01 15:07:42.730079</td>\n",
       "      <td>s_317</td>\n",
       "      <td>c_8024</td>\n",
       "    </tr>\n",
       "    <tr>\n",
       "      <th>3</th>\n",
       "      <td>0_1421</td>\n",
       "      <td>19.99</td>\n",
       "      <td>0</td>\n",
       "      <td>2021-03-02 03:39:21.811833</td>\n",
       "      <td>s_563</td>\n",
       "      <td>c_7702</td>\n",
       "    </tr>\n",
       "    <tr>\n",
       "      <th>4</th>\n",
       "      <td>0_1421</td>\n",
       "      <td>19.99</td>\n",
       "      <td>0</td>\n",
       "      <td>2021-03-02 19:09:41.789425</td>\n",
       "      <td>s_850</td>\n",
       "      <td>c_4057</td>\n",
       "    </tr>\n",
       "    <tr>\n",
       "      <th>...</th>\n",
       "      <td>...</td>\n",
       "      <td>...</td>\n",
       "      <td>...</td>\n",
       "      <td>...</td>\n",
       "      <td>...</td>\n",
       "      <td>...</td>\n",
       "    </tr>\n",
       "    <tr>\n",
       "      <th>687550</th>\n",
       "      <td>1_140</td>\n",
       "      <td>38.56</td>\n",
       "      <td>1</td>\n",
       "      <td>2022-12-09 14:20:34.169187</td>\n",
       "      <td>s_309513</td>\n",
       "      <td>c_7406</td>\n",
       "    </tr>\n",
       "    <tr>\n",
       "      <th>687551</th>\n",
       "      <td>0_1920</td>\n",
       "      <td>25.16</td>\n",
       "      <td>0</td>\n",
       "      <td>2021-04-13 18:36:10.252971</td>\n",
       "      <td>s_20115</td>\n",
       "      <td>c_7088</td>\n",
       "    </tr>\n",
       "    <tr>\n",
       "      <th>687552</th>\n",
       "      <td>0_1920</td>\n",
       "      <td>25.16</td>\n",
       "      <td>0</td>\n",
       "      <td>2021-05-30 02:37:22.371278</td>\n",
       "      <td>s_41465</td>\n",
       "      <td>c_7748</td>\n",
       "    </tr>\n",
       "    <tr>\n",
       "      <th>687553</th>\n",
       "      <td>0_1920</td>\n",
       "      <td>25.16</td>\n",
       "      <td>0</td>\n",
       "      <td>2022-12-30 02:37:22.371278</td>\n",
       "      <td>s_319303</td>\n",
       "      <td>c_7748</td>\n",
       "    </tr>\n",
       "    <tr>\n",
       "      <th>687554</th>\n",
       "      <td>0_1920</td>\n",
       "      <td>25.16</td>\n",
       "      <td>0</td>\n",
       "      <td>2023-01-30 02:37:22.371278</td>\n",
       "      <td>s_334324</td>\n",
       "      <td>c_7748</td>\n",
       "    </tr>\n",
       "  </tbody>\n",
       "</table>\n",
       "<p>687555 rows × 6 columns</p>\n",
       "</div>"
      ],
      "text/plain": [
       "       id_prod  price  categ                        date session_id client_id\n",
       "0       0_1421  19.99      0  2021-03-01 04:13:00.107748      s_101    c_8533\n",
       "1       0_1421  19.99      0  2021-03-01 13:48:20.214075      s_285    c_5299\n",
       "2       0_1421  19.99      0  2021-03-01 15:07:42.730079      s_317    c_8024\n",
       "3       0_1421  19.99      0  2021-03-02 03:39:21.811833      s_563    c_7702\n",
       "4       0_1421  19.99      0  2021-03-02 19:09:41.789425      s_850    c_4057\n",
       "...        ...    ...    ...                         ...        ...       ...\n",
       "687550   1_140  38.56      1  2022-12-09 14:20:34.169187   s_309513    c_7406\n",
       "687551  0_1920  25.16      0  2021-04-13 18:36:10.252971    s_20115    c_7088\n",
       "687552  0_1920  25.16      0  2021-05-30 02:37:22.371278    s_41465    c_7748\n",
       "687553  0_1920  25.16      0  2022-12-30 02:37:22.371278   s_319303    c_7748\n",
       "687554  0_1920  25.16      0  2023-01-30 02:37:22.371278   s_334324    c_7748\n",
       "\n",
       "[687555 rows x 6 columns]"
      ]
     },
     "execution_count": 112,
     "metadata": {},
     "output_type": "execute_result"
    }
   ],
   "source": [
    "# Jointure entre le dataframe dataproducts et datatransactions\n",
    "\n",
    "datamerge1 = pd.merge(dataproducts, datatransactions, how=\"outer\", on=[\"id_prod\"])\n",
    "datamerge1"
   ]
  },
  {
   "cell_type": "code",
   "execution_count": 113,
   "id": "1a0dfc44",
   "metadata": {},
   "outputs": [
    {
     "name": "stdout",
     "output_type": "stream",
     "text": [
      "id_prod        0\n",
      "price          0\n",
      "categ          0\n",
      "date          21\n",
      "session_id    21\n",
      "client_id     21\n",
      "dtype: int64\n"
     ]
    }
   ],
   "source": [
    "# Recherche des valeurs null\n",
    "\n",
    "print(datamerge1.isnull().sum())"
   ]
  },
  {
   "cell_type": "raw",
   "id": "051e63f4",
   "metadata": {},
   "source": [
    "En vérifiant les doublons dans le dataframe, je me rends compte qu'il manque 21 id_client,session_id et date ce sont des clients qui ont acheté mais on n'arrive pas à retrouver les produits dans le référentiels de produits "
   ]
  },
  {
   "cell_type": "code",
   "execution_count": 114,
   "id": "eccbe4ec",
   "metadata": {},
   "outputs": [],
   "source": [
    "# Supression des valeurs nulles puisque l'on arrive pas à retrouver les produits achetés\n",
    "\n",
    "datamerge1.dropna(inplace = True)"
   ]
  },
  {
   "cell_type": "code",
   "execution_count": 115,
   "id": "63c37419",
   "metadata": {},
   "outputs": [
    {
     "name": "stdout",
     "output_type": "stream",
     "text": [
      "id_prod       0\n",
      "price         0\n",
      "categ         0\n",
      "date          0\n",
      "session_id    0\n",
      "client_id     0\n",
      "dtype: int64\n"
     ]
    }
   ],
   "source": [
    "# Vérification des valeurs null\n",
    "\n",
    "print(datamerge1.isnull().sum())"
   ]
  },
  {
   "cell_type": "code",
   "execution_count": 116,
   "id": "6d788a8f",
   "metadata": {},
   "outputs": [
    {
     "name": "stdout",
     "output_type": "stream",
     "text": [
      "id_prod         3265\n",
      "price           1442\n",
      "categ              3\n",
      "date          687419\n",
      "session_id    345505\n",
      "client_id       8600\n",
      "dtype: int64\n"
     ]
    }
   ],
   "source": [
    "print(datamerge1.nunique())"
   ]
  },
  {
   "cell_type": "code",
   "execution_count": 117,
   "id": "71632197",
   "metadata": {},
   "outputs": [
    {
     "data": {
      "text/html": [
       "<div>\n",
       "<style scoped>\n",
       "    .dataframe tbody tr th:only-of-type {\n",
       "        vertical-align: middle;\n",
       "    }\n",
       "\n",
       "    .dataframe tbody tr th {\n",
       "        vertical-align: top;\n",
       "    }\n",
       "\n",
       "    .dataframe thead th {\n",
       "        text-align: right;\n",
       "    }\n",
       "</style>\n",
       "<table border=\"1\" class=\"dataframe\">\n",
       "  <thead>\n",
       "    <tr style=\"text-align: right;\">\n",
       "      <th></th>\n",
       "      <th>client_id</th>\n",
       "      <th>sex</th>\n",
       "      <th>birth</th>\n",
       "      <th>id_prod</th>\n",
       "      <th>price</th>\n",
       "      <th>categ</th>\n",
       "      <th>date</th>\n",
       "      <th>session_id</th>\n",
       "    </tr>\n",
       "  </thead>\n",
       "  <tbody>\n",
       "    <tr>\n",
       "      <th>0</th>\n",
       "      <td>c_4410</td>\n",
       "      <td>f</td>\n",
       "      <td>1967</td>\n",
       "      <td>1_385</td>\n",
       "      <td>25.99</td>\n",
       "      <td>1.0</td>\n",
       "      <td>2021-03-22 01:40:22.782925</td>\n",
       "      <td>s_9707</td>\n",
       "    </tr>\n",
       "    <tr>\n",
       "      <th>1</th>\n",
       "      <td>c_4410</td>\n",
       "      <td>f</td>\n",
       "      <td>1967</td>\n",
       "      <td>1_385</td>\n",
       "      <td>25.99</td>\n",
       "      <td>1.0</td>\n",
       "      <td>2023-02-22 01:40:22.782925</td>\n",
       "      <td>s_345108</td>\n",
       "    </tr>\n",
       "    <tr>\n",
       "      <th>2</th>\n",
       "      <td>c_4410</td>\n",
       "      <td>f</td>\n",
       "      <td>1967</td>\n",
       "      <td>0_1110</td>\n",
       "      <td>4.71</td>\n",
       "      <td>0.0</td>\n",
       "      <td>2021-11-04 16:28:30.169021</td>\n",
       "      <td>s_114715</td>\n",
       "    </tr>\n",
       "    <tr>\n",
       "      <th>3</th>\n",
       "      <td>c_4410</td>\n",
       "      <td>f</td>\n",
       "      <td>1967</td>\n",
       "      <td>0_1111</td>\n",
       "      <td>19.99</td>\n",
       "      <td>0.0</td>\n",
       "      <td>2021-03-22 01:27:49.480137</td>\n",
       "      <td>s_9707</td>\n",
       "    </tr>\n",
       "    <tr>\n",
       "      <th>4</th>\n",
       "      <td>c_4410</td>\n",
       "      <td>f</td>\n",
       "      <td>1967</td>\n",
       "      <td>0_1111</td>\n",
       "      <td>19.99</td>\n",
       "      <td>0.0</td>\n",
       "      <td>2023-02-22 01:27:49.480137</td>\n",
       "      <td>s_345108</td>\n",
       "    </tr>\n",
       "    <tr>\n",
       "      <th>...</th>\n",
       "      <td>...</td>\n",
       "      <td>...</td>\n",
       "      <td>...</td>\n",
       "      <td>...</td>\n",
       "      <td>...</td>\n",
       "      <td>...</td>\n",
       "      <td>...</td>\n",
       "      <td>...</td>\n",
       "    </tr>\n",
       "    <tr>\n",
       "      <th>687550</th>\n",
       "      <td>c_84</td>\n",
       "      <td>f</td>\n",
       "      <td>1982</td>\n",
       "      <td>0_1438</td>\n",
       "      <td>9.31</td>\n",
       "      <td>0.0</td>\n",
       "      <td>2022-03-29 06:11:50.316631</td>\n",
       "      <td>s_186172</td>\n",
       "    </tr>\n",
       "    <tr>\n",
       "      <th>687551</th>\n",
       "      <td>c_84</td>\n",
       "      <td>f</td>\n",
       "      <td>1982</td>\n",
       "      <td>0_1438</td>\n",
       "      <td>9.31</td>\n",
       "      <td>0.0</td>\n",
       "      <td>2022-05-29 06:11:50.316631</td>\n",
       "      <td>s_215697</td>\n",
       "    </tr>\n",
       "    <tr>\n",
       "      <th>687552</th>\n",
       "      <td>c_84</td>\n",
       "      <td>f</td>\n",
       "      <td>1982</td>\n",
       "      <td>1_459</td>\n",
       "      <td>15.99</td>\n",
       "      <td>1.0</td>\n",
       "      <td>2022-02-17 00:16:56.629536</td>\n",
       "      <td>s_166337</td>\n",
       "    </tr>\n",
       "    <tr>\n",
       "      <th>687553</th>\n",
       "      <td>c_84</td>\n",
       "      <td>f</td>\n",
       "      <td>1982</td>\n",
       "      <td>1_459</td>\n",
       "      <td>15.99</td>\n",
       "      <td>1.0</td>\n",
       "      <td>2022-12-17 00:16:56.629536</td>\n",
       "      <td>s_313173</td>\n",
       "    </tr>\n",
       "    <tr>\n",
       "      <th>687554</th>\n",
       "      <td>c_84</td>\n",
       "      <td>f</td>\n",
       "      <td>1982</td>\n",
       "      <td>1_110</td>\n",
       "      <td>54.90</td>\n",
       "      <td>1.0</td>\n",
       "      <td>2021-09-13 21:39:46.845376</td>\n",
       "      <td>s_89478</td>\n",
       "    </tr>\n",
       "  </tbody>\n",
       "</table>\n",
       "<p>687555 rows × 8 columns</p>\n",
       "</div>"
      ],
      "text/plain": [
       "       client_id sex  birth id_prod  price  categ                        date  \\\n",
       "0         c_4410   f   1967   1_385  25.99    1.0  2021-03-22 01:40:22.782925   \n",
       "1         c_4410   f   1967   1_385  25.99    1.0  2023-02-22 01:40:22.782925   \n",
       "2         c_4410   f   1967  0_1110   4.71    0.0  2021-11-04 16:28:30.169021   \n",
       "3         c_4410   f   1967  0_1111  19.99    0.0  2021-03-22 01:27:49.480137   \n",
       "4         c_4410   f   1967  0_1111  19.99    0.0  2023-02-22 01:27:49.480137   \n",
       "...          ...  ..    ...     ...    ...    ...                         ...   \n",
       "687550      c_84   f   1982  0_1438   9.31    0.0  2022-03-29 06:11:50.316631   \n",
       "687551      c_84   f   1982  0_1438   9.31    0.0  2022-05-29 06:11:50.316631   \n",
       "687552      c_84   f   1982   1_459  15.99    1.0  2022-02-17 00:16:56.629536   \n",
       "687553      c_84   f   1982   1_459  15.99    1.0  2022-12-17 00:16:56.629536   \n",
       "687554      c_84   f   1982   1_110  54.90    1.0  2021-09-13 21:39:46.845376   \n",
       "\n",
       "       session_id  \n",
       "0          s_9707  \n",
       "1        s_345108  \n",
       "2        s_114715  \n",
       "3          s_9707  \n",
       "4        s_345108  \n",
       "...           ...  \n",
       "687550   s_186172  \n",
       "687551   s_215697  \n",
       "687552   s_166337  \n",
       "687553   s_313173  \n",
       "687554    s_89478  \n",
       "\n",
       "[687555 rows x 8 columns]"
      ]
     },
     "execution_count": 117,
     "metadata": {},
     "output_type": "execute_result"
    }
   ],
   "source": [
    "# Jointure datamerge1 et datacustomers avec la colonne client_id\n",
    "\n",
    "datamerge2 = pd.merge(datacustomers, datamerge1, how=\"outer\", on=[\"client_id\"])\n",
    "datamerge2"
   ]
  },
  {
   "cell_type": "code",
   "execution_count": 118,
   "id": "21070043",
   "metadata": {
    "scrolled": true
   },
   "outputs": [
    {
     "name": "stdout",
     "output_type": "stream",
     "text": [
      "client_id      0\n",
      "sex            0\n",
      "birth          0\n",
      "id_prod       21\n",
      "price         21\n",
      "categ         21\n",
      "date          21\n",
      "session_id    21\n",
      "dtype: int64\n"
     ]
    }
   ],
   "source": [
    "# Recherche des valeurs null\n",
    "\n",
    "print(datamerge2.isnull().sum())"
   ]
  },
  {
   "cell_type": "code",
   "execution_count": 119,
   "id": "e328b346",
   "metadata": {},
   "outputs": [
    {
     "data": {
      "text/html": [
       "<div>\n",
       "<style scoped>\n",
       "    .dataframe tbody tr th:only-of-type {\n",
       "        vertical-align: middle;\n",
       "    }\n",
       "\n",
       "    .dataframe tbody tr th {\n",
       "        vertical-align: top;\n",
       "    }\n",
       "\n",
       "    .dataframe thead th {\n",
       "        text-align: right;\n",
       "    }\n",
       "</style>\n",
       "<table border=\"1\" class=\"dataframe\">\n",
       "  <thead>\n",
       "    <tr style=\"text-align: right;\">\n",
       "      <th></th>\n",
       "      <th>client_id</th>\n",
       "      <th>sex</th>\n",
       "      <th>birth</th>\n",
       "      <th>id_prod</th>\n",
       "      <th>price</th>\n",
       "      <th>categ</th>\n",
       "      <th>date</th>\n",
       "      <th>session_id</th>\n",
       "    </tr>\n",
       "  </thead>\n",
       "  <tbody>\n",
       "    <tr>\n",
       "      <th>60134</th>\n",
       "      <td>c_8253</td>\n",
       "      <td>f</td>\n",
       "      <td>2001</td>\n",
       "      <td>NaN</td>\n",
       "      <td>NaN</td>\n",
       "      <td>NaN</td>\n",
       "      <td>NaN</td>\n",
       "      <td>NaN</td>\n",
       "    </tr>\n",
       "    <tr>\n",
       "      <th>202567</th>\n",
       "      <td>c_3789</td>\n",
       "      <td>f</td>\n",
       "      <td>1997</td>\n",
       "      <td>NaN</td>\n",
       "      <td>NaN</td>\n",
       "      <td>NaN</td>\n",
       "      <td>NaN</td>\n",
       "      <td>NaN</td>\n",
       "    </tr>\n",
       "    <tr>\n",
       "      <th>220670</th>\n",
       "      <td>c_4406</td>\n",
       "      <td>f</td>\n",
       "      <td>1998</td>\n",
       "      <td>NaN</td>\n",
       "      <td>NaN</td>\n",
       "      <td>NaN</td>\n",
       "      <td>NaN</td>\n",
       "      <td>NaN</td>\n",
       "    </tr>\n",
       "    <tr>\n",
       "      <th>222930</th>\n",
       "      <td>c_2706</td>\n",
       "      <td>f</td>\n",
       "      <td>1967</td>\n",
       "      <td>NaN</td>\n",
       "      <td>NaN</td>\n",
       "      <td>NaN</td>\n",
       "      <td>NaN</td>\n",
       "      <td>NaN</td>\n",
       "    </tr>\n",
       "    <tr>\n",
       "      <th>228157</th>\n",
       "      <td>c_3443</td>\n",
       "      <td>m</td>\n",
       "      <td>1959</td>\n",
       "      <td>NaN</td>\n",
       "      <td>NaN</td>\n",
       "      <td>NaN</td>\n",
       "      <td>NaN</td>\n",
       "      <td>NaN</td>\n",
       "    </tr>\n",
       "    <tr>\n",
       "      <th>251338</th>\n",
       "      <td>c_4447</td>\n",
       "      <td>m</td>\n",
       "      <td>1956</td>\n",
       "      <td>NaN</td>\n",
       "      <td>NaN</td>\n",
       "      <td>NaN</td>\n",
       "      <td>NaN</td>\n",
       "      <td>NaN</td>\n",
       "    </tr>\n",
       "    <tr>\n",
       "      <th>251898</th>\n",
       "      <td>c_3017</td>\n",
       "      <td>f</td>\n",
       "      <td>1992</td>\n",
       "      <td>NaN</td>\n",
       "      <td>NaN</td>\n",
       "      <td>NaN</td>\n",
       "      <td>NaN</td>\n",
       "      <td>NaN</td>\n",
       "    </tr>\n",
       "    <tr>\n",
       "      <th>264087</th>\n",
       "      <td>c_4086</td>\n",
       "      <td>f</td>\n",
       "      <td>1992</td>\n",
       "      <td>NaN</td>\n",
       "      <td>NaN</td>\n",
       "      <td>NaN</td>\n",
       "      <td>NaN</td>\n",
       "      <td>NaN</td>\n",
       "    </tr>\n",
       "    <tr>\n",
       "      <th>316669</th>\n",
       "      <td>c_6930</td>\n",
       "      <td>m</td>\n",
       "      <td>2004</td>\n",
       "      <td>NaN</td>\n",
       "      <td>NaN</td>\n",
       "      <td>NaN</td>\n",
       "      <td>NaN</td>\n",
       "      <td>NaN</td>\n",
       "    </tr>\n",
       "    <tr>\n",
       "      <th>323346</th>\n",
       "      <td>c_4358</td>\n",
       "      <td>m</td>\n",
       "      <td>1999</td>\n",
       "      <td>NaN</td>\n",
       "      <td>NaN</td>\n",
       "      <td>NaN</td>\n",
       "      <td>NaN</td>\n",
       "      <td>NaN</td>\n",
       "    </tr>\n",
       "    <tr>\n",
       "      <th>391877</th>\n",
       "      <td>c_8381</td>\n",
       "      <td>f</td>\n",
       "      <td>1965</td>\n",
       "      <td>NaN</td>\n",
       "      <td>NaN</td>\n",
       "      <td>NaN</td>\n",
       "      <td>NaN</td>\n",
       "      <td>NaN</td>\n",
       "    </tr>\n",
       "    <tr>\n",
       "      <th>397225</th>\n",
       "      <td>c_1223</td>\n",
       "      <td>m</td>\n",
       "      <td>1963</td>\n",
       "      <td>NaN</td>\n",
       "      <td>NaN</td>\n",
       "      <td>NaN</td>\n",
       "      <td>NaN</td>\n",
       "      <td>NaN</td>\n",
       "    </tr>\n",
       "    <tr>\n",
       "      <th>494899</th>\n",
       "      <td>c_6862</td>\n",
       "      <td>f</td>\n",
       "      <td>2002</td>\n",
       "      <td>NaN</td>\n",
       "      <td>NaN</td>\n",
       "      <td>NaN</td>\n",
       "      <td>NaN</td>\n",
       "      <td>NaN</td>\n",
       "    </tr>\n",
       "    <tr>\n",
       "      <th>501732</th>\n",
       "      <td>c_5245</td>\n",
       "      <td>f</td>\n",
       "      <td>2004</td>\n",
       "      <td>NaN</td>\n",
       "      <td>NaN</td>\n",
       "      <td>NaN</td>\n",
       "      <td>NaN</td>\n",
       "      <td>NaN</td>\n",
       "    </tr>\n",
       "    <tr>\n",
       "      <th>511632</th>\n",
       "      <td>c_5223</td>\n",
       "      <td>m</td>\n",
       "      <td>2003</td>\n",
       "      <td>NaN</td>\n",
       "      <td>NaN</td>\n",
       "      <td>NaN</td>\n",
       "      <td>NaN</td>\n",
       "      <td>NaN</td>\n",
       "    </tr>\n",
       "    <tr>\n",
       "      <th>520678</th>\n",
       "      <td>c_6735</td>\n",
       "      <td>m</td>\n",
       "      <td>2004</td>\n",
       "      <td>NaN</td>\n",
       "      <td>NaN</td>\n",
       "      <td>NaN</td>\n",
       "      <td>NaN</td>\n",
       "      <td>NaN</td>\n",
       "    </tr>\n",
       "    <tr>\n",
       "      <th>529541</th>\n",
       "      <td>c_862</td>\n",
       "      <td>f</td>\n",
       "      <td>1956</td>\n",
       "      <td>NaN</td>\n",
       "      <td>NaN</td>\n",
       "      <td>NaN</td>\n",
       "      <td>NaN</td>\n",
       "      <td>NaN</td>\n",
       "    </tr>\n",
       "    <tr>\n",
       "      <th>548810</th>\n",
       "      <td>c_7584</td>\n",
       "      <td>f</td>\n",
       "      <td>1960</td>\n",
       "      <td>NaN</td>\n",
       "      <td>NaN</td>\n",
       "      <td>NaN</td>\n",
       "      <td>NaN</td>\n",
       "      <td>NaN</td>\n",
       "    </tr>\n",
       "    <tr>\n",
       "      <th>618615</th>\n",
       "      <td>c_90</td>\n",
       "      <td>m</td>\n",
       "      <td>2001</td>\n",
       "      <td>NaN</td>\n",
       "      <td>NaN</td>\n",
       "      <td>NaN</td>\n",
       "      <td>NaN</td>\n",
       "      <td>NaN</td>\n",
       "    </tr>\n",
       "    <tr>\n",
       "      <th>620105</th>\n",
       "      <td>c_587</td>\n",
       "      <td>m</td>\n",
       "      <td>1993</td>\n",
       "      <td>NaN</td>\n",
       "      <td>NaN</td>\n",
       "      <td>NaN</td>\n",
       "      <td>NaN</td>\n",
       "      <td>NaN</td>\n",
       "    </tr>\n",
       "    <tr>\n",
       "      <th>681296</th>\n",
       "      <td>c_3526</td>\n",
       "      <td>m</td>\n",
       "      <td>1956</td>\n",
       "      <td>NaN</td>\n",
       "      <td>NaN</td>\n",
       "      <td>NaN</td>\n",
       "      <td>NaN</td>\n",
       "      <td>NaN</td>\n",
       "    </tr>\n",
       "  </tbody>\n",
       "</table>\n",
       "</div>"
      ],
      "text/plain": [
       "       client_id sex  birth id_prod  price  categ date session_id\n",
       "60134     c_8253   f   2001     NaN    NaN    NaN  NaN        NaN\n",
       "202567    c_3789   f   1997     NaN    NaN    NaN  NaN        NaN\n",
       "220670    c_4406   f   1998     NaN    NaN    NaN  NaN        NaN\n",
       "222930    c_2706   f   1967     NaN    NaN    NaN  NaN        NaN\n",
       "228157    c_3443   m   1959     NaN    NaN    NaN  NaN        NaN\n",
       "251338    c_4447   m   1956     NaN    NaN    NaN  NaN        NaN\n",
       "251898    c_3017   f   1992     NaN    NaN    NaN  NaN        NaN\n",
       "264087    c_4086   f   1992     NaN    NaN    NaN  NaN        NaN\n",
       "316669    c_6930   m   2004     NaN    NaN    NaN  NaN        NaN\n",
       "323346    c_4358   m   1999     NaN    NaN    NaN  NaN        NaN\n",
       "391877    c_8381   f   1965     NaN    NaN    NaN  NaN        NaN\n",
       "397225    c_1223   m   1963     NaN    NaN    NaN  NaN        NaN\n",
       "494899    c_6862   f   2002     NaN    NaN    NaN  NaN        NaN\n",
       "501732    c_5245   f   2004     NaN    NaN    NaN  NaN        NaN\n",
       "511632    c_5223   m   2003     NaN    NaN    NaN  NaN        NaN\n",
       "520678    c_6735   m   2004     NaN    NaN    NaN  NaN        NaN\n",
       "529541     c_862   f   1956     NaN    NaN    NaN  NaN        NaN\n",
       "548810    c_7584   f   1960     NaN    NaN    NaN  NaN        NaN\n",
       "618615      c_90   m   2001     NaN    NaN    NaN  NaN        NaN\n",
       "620105     c_587   m   1993     NaN    NaN    NaN  NaN        NaN\n",
       "681296    c_3526   m   1956     NaN    NaN    NaN  NaN        NaN"
      ]
     },
     "execution_count": 119,
     "metadata": {},
     "output_type": "execute_result"
    }
   ],
   "source": [
    "# Recherche des lignes de valeurs nulles sur l'id_prod\n",
    "datamerge2[datamerge2[\"id_prod\"].isnull()]"
   ]
  },
  {
   "cell_type": "raw",
   "id": "84f4d054",
   "metadata": {},
   "source": [
    "Conclusion : Ce sont des clients dans la base de clientèle et qui n'ont pas réalisé d'achats dans la période "
   ]
  },
  {
   "cell_type": "code",
   "execution_count": 120,
   "id": "06aaedac",
   "metadata": {},
   "outputs": [],
   "source": [
    "# Supression des valeurs nulles puisque nous voulons faire une analyse sur la clientèle\n",
    "\n",
    "datamerge2.dropna(inplace = True)"
   ]
  },
  {
   "cell_type": "code",
   "execution_count": 121,
   "id": "0c28eb6b",
   "metadata": {},
   "outputs": [
    {
     "name": "stdout",
     "output_type": "stream",
     "text": [
      "client_id     0\n",
      "sex           0\n",
      "birth         0\n",
      "id_prod       0\n",
      "price         0\n",
      "categ         0\n",
      "date          0\n",
      "session_id    0\n",
      "dtype: int64\n"
     ]
    }
   ],
   "source": [
    "# Vérification des valeurs null\n",
    "\n",
    "print(datamerge2.isnull().sum())"
   ]
  },
  {
   "cell_type": "code",
   "execution_count": 122,
   "id": "80d8e2d8",
   "metadata": {},
   "outputs": [
    {
     "data": {
      "text/plain": [
       "<bound method NDFrame.describe of        client_id sex  birth id_prod  price  categ                        date  \\\n",
       "0         c_4410   f   1967   1_385  25.99    1.0  2021-03-22 01:40:22.782925   \n",
       "1         c_4410   f   1967   1_385  25.99    1.0  2023-02-22 01:40:22.782925   \n",
       "2         c_4410   f   1967  0_1110   4.71    0.0  2021-11-04 16:28:30.169021   \n",
       "3         c_4410   f   1967  0_1111  19.99    0.0  2021-03-22 01:27:49.480137   \n",
       "4         c_4410   f   1967  0_1111  19.99    0.0  2023-02-22 01:27:49.480137   \n",
       "...          ...  ..    ...     ...    ...    ...                         ...   \n",
       "687550      c_84   f   1982  0_1438   9.31    0.0  2022-03-29 06:11:50.316631   \n",
       "687551      c_84   f   1982  0_1438   9.31    0.0  2022-05-29 06:11:50.316631   \n",
       "687552      c_84   f   1982   1_459  15.99    1.0  2022-02-17 00:16:56.629536   \n",
       "687553      c_84   f   1982   1_459  15.99    1.0  2022-12-17 00:16:56.629536   \n",
       "687554      c_84   f   1982   1_110  54.90    1.0  2021-09-13 21:39:46.845376   \n",
       "\n",
       "       session_id  \n",
       "0          s_9707  \n",
       "1        s_345108  \n",
       "2        s_114715  \n",
       "3          s_9707  \n",
       "4        s_345108  \n",
       "...           ...  \n",
       "687550   s_186172  \n",
       "687551   s_215697  \n",
       "687552   s_166337  \n",
       "687553   s_313173  \n",
       "687554    s_89478  \n",
       "\n",
       "[687534 rows x 8 columns]>"
      ]
     },
     "execution_count": 122,
     "metadata": {},
     "output_type": "execute_result"
    }
   ],
   "source": [
    "datamerge2.describe"
   ]
  },
  {
   "cell_type": "code",
   "execution_count": 123,
   "id": "b8eb541b",
   "metadata": {},
   "outputs": [],
   "source": [
    "datamerge2['date_str'] = datamerge2['date'].str[:10]"
   ]
  },
  {
   "cell_type": "code",
   "execution_count": 124,
   "id": "db8d25cc",
   "metadata": {},
   "outputs": [
    {
     "data": {
      "text/plain": [
       "0         2021-03-22\n",
       "1         2023-02-22\n",
       "2         2021-11-04\n",
       "3         2021-03-22\n",
       "4         2023-02-22\n",
       "             ...    \n",
       "687550    2022-03-29\n",
       "687551    2022-05-29\n",
       "687552    2022-02-17\n",
       "687553    2022-12-17\n",
       "687554    2021-09-13\n",
       "Name: date_str, Length: 687534, dtype: object"
      ]
     },
     "execution_count": 124,
     "metadata": {},
     "output_type": "execute_result"
    }
   ],
   "source": [
    "datamerge2['date_str']"
   ]
  },
  {
   "cell_type": "code",
   "execution_count": 125,
   "id": "b26e6616",
   "metadata": {},
   "outputs": [],
   "source": [
    "datamerge2['date_fmt'] = pd.to_datetime(datamerge2['date_str'])"
   ]
  },
  {
   "cell_type": "code",
   "execution_count": 126,
   "id": "2dac349d",
   "metadata": {},
   "outputs": [
    {
     "data": {
      "text/plain": [
       "client_id             object\n",
       "sex                   object\n",
       "birth                  int64\n",
       "id_prod               object\n",
       "price                float64\n",
       "categ                float64\n",
       "date                  object\n",
       "session_id            object\n",
       "date_str              object\n",
       "date_fmt      datetime64[ns]\n",
       "dtype: object"
      ]
     },
     "execution_count": 126,
     "metadata": {},
     "output_type": "execute_result"
    }
   ],
   "source": [
    "datamerge2.dtypes"
   ]
  },
  {
   "cell_type": "code",
   "execution_count": 127,
   "id": "dfb8af8a",
   "metadata": {},
   "outputs": [],
   "source": [
    "annee_actuelle= datetime.now().year"
   ]
  },
  {
   "cell_type": "code",
   "execution_count": 128,
   "id": "cd016c12",
   "metadata": {},
   "outputs": [
    {
     "data": {
      "text/plain": [
       "2024"
      ]
     },
     "execution_count": 128,
     "metadata": {},
     "output_type": "execute_result"
    }
   ],
   "source": [
    "annee_actuelle"
   ]
  },
  {
   "cell_type": "code",
   "execution_count": 129,
   "id": "c3078ed4",
   "metadata": {},
   "outputs": [],
   "source": [
    "# Ajout de la colonne âge \n",
    "datamerge2['age']= annee_actuelle - datamerge2['birth']"
   ]
  },
  {
   "cell_type": "code",
   "execution_count": 130,
   "id": "bf3276c4",
   "metadata": {},
   "outputs": [
    {
     "data": {
      "text/html": [
       "<div>\n",
       "<style scoped>\n",
       "    .dataframe tbody tr th:only-of-type {\n",
       "        vertical-align: middle;\n",
       "    }\n",
       "\n",
       "    .dataframe tbody tr th {\n",
       "        vertical-align: top;\n",
       "    }\n",
       "\n",
       "    .dataframe thead th {\n",
       "        text-align: right;\n",
       "    }\n",
       "</style>\n",
       "<table border=\"1\" class=\"dataframe\">\n",
       "  <thead>\n",
       "    <tr style=\"text-align: right;\">\n",
       "      <th></th>\n",
       "      <th>age</th>\n",
       "      <th>birth</th>\n",
       "    </tr>\n",
       "  </thead>\n",
       "  <tbody>\n",
       "    <tr>\n",
       "      <th>0</th>\n",
       "      <td>57</td>\n",
       "      <td>1967</td>\n",
       "    </tr>\n",
       "    <tr>\n",
       "      <th>1</th>\n",
       "      <td>57</td>\n",
       "      <td>1967</td>\n",
       "    </tr>\n",
       "    <tr>\n",
       "      <th>2</th>\n",
       "      <td>57</td>\n",
       "      <td>1967</td>\n",
       "    </tr>\n",
       "    <tr>\n",
       "      <th>3</th>\n",
       "      <td>57</td>\n",
       "      <td>1967</td>\n",
       "    </tr>\n",
       "    <tr>\n",
       "      <th>4</th>\n",
       "      <td>57</td>\n",
       "      <td>1967</td>\n",
       "    </tr>\n",
       "  </tbody>\n",
       "</table>\n",
       "</div>"
      ],
      "text/plain": [
       "   age  birth\n",
       "0   57   1967\n",
       "1   57   1967\n",
       "2   57   1967\n",
       "3   57   1967\n",
       "4   57   1967"
      ]
     },
     "execution_count": 130,
     "metadata": {},
     "output_type": "execute_result"
    }
   ],
   "source": [
    "datamerge2[[\"age\",\"birth\"]].head()"
   ]
  },
  {
   "cell_type": "markdown",
   "id": "a43a97f3",
   "metadata": {},
   "source": [
    "# Demande d'Antoine "
   ]
  },
  {
   "cell_type": "markdown",
   "id": "3224d81d",
   "metadata": {},
   "source": [
    "Analyse du CA"
   ]
  },
  {
   "cell_type": "markdown",
   "id": "816d02fa",
   "metadata": {},
   "source": [
    "## Chiffre d'affaires par produits  \n"
   ]
  },
  {
   "cell_type": "code",
   "execution_count": 131,
   "id": "21a489a9",
   "metadata": {},
   "outputs": [],
   "source": [
    "# Regroupement par id_produit et ensuite calcul de la somme des prix pour chaque groupe.\n",
    "chiffre_affaire_par_produit = datamerge2.groupby('id_prod')['price'].sum().reset_index()"
   ]
  },
  {
   "cell_type": "code",
   "execution_count": 132,
   "id": "d956cf5c",
   "metadata": {},
   "outputs": [
    {
     "name": "stdout",
     "output_type": "stream",
     "text": [
      "     id_produit  chiffre_affaire\n",
      "0           0_0          4657.50\n",
      "1           0_1          5352.13\n",
      "2          0_10           394.90\n",
      "3         0_100            61.80\n",
      "4        0_1000          2954.88\n",
      "...         ...              ...\n",
      "3260       2_95           395.96\n",
      "3261       2_96         28650.18\n",
      "3262       2_97          2092.87\n",
      "3263       2_98           149.74\n",
      "3264       2_99           594.93\n",
      "\n",
      "[3265 rows x 2 columns]\n"
     ]
    }
   ],
   "source": [
    "# Renommer les colonnes pour plus de clarté\n",
    "chiffre_affaire_par_produit.columns = ['id_produit', 'chiffre_affaire']\n",
    "\n",
    "print(chiffre_affaire_par_produit)"
   ]
  },
  {
   "cell_type": "markdown",
   "id": "b1d5ff19",
   "metadata": {},
   "source": [
    "## Chiffre d'affaire total \n"
   ]
  },
  {
   "cell_type": "code",
   "execution_count": 133,
   "id": "00ac89ff",
   "metadata": {
    "scrolled": true
   },
   "outputs": [
    {
     "name": "stdout",
     "output_type": "stream",
     "text": [
      "Chiffre d'affaire total : 12027663.1 €\n"
     ]
    }
   ],
   "source": [
    "# Chiffre total = somme de tous les chiffres d'affaires par produits \n",
    "CA = round(datamerge2['price'].sum(),2)\n",
    "print(\"Chiffre d'affaire total :\", CA, \"€\")"
   ]
  },
  {
   "cell_type": "code",
   "execution_count": 134,
   "id": "cfa01569",
   "metadata": {},
   "outputs": [
    {
     "data": {
      "text/plain": [
       "Timestamp('2021-03-01 00:00:00')"
      ]
     },
     "execution_count": 134,
     "metadata": {},
     "output_type": "execute_result"
    }
   ],
   "source": [
    "# Périmètre d'étude\n",
    "datamerge2['date_fmt'].min()"
   ]
  },
  {
   "cell_type": "code",
   "execution_count": 135,
   "id": "19fef3a1",
   "metadata": {},
   "outputs": [
    {
     "data": {
      "text/plain": [
       "Timestamp('2023-02-28 00:00:00')"
      ]
     },
     "execution_count": 135,
     "metadata": {},
     "output_type": "execute_result"
    }
   ],
   "source": [
    "datamerge2['date_fmt'].max()"
   ]
  },
  {
   "cell_type": "markdown",
   "id": "61e3fa9e",
   "metadata": {},
   "source": [
    "Le chiffre d'affaire sur la période du 1er mars 2021 à 2023 est de  12027663.1 €"
   ]
  },
  {
   "cell_type": "code",
   "execution_count": 136,
   "id": "eea3b12a",
   "metadata": {},
   "outputs": [
    {
     "data": {
      "text/html": [
       "<div>\n",
       "<style scoped>\n",
       "    .dataframe tbody tr th:only-of-type {\n",
       "        vertical-align: middle;\n",
       "    }\n",
       "\n",
       "    .dataframe tbody tr th {\n",
       "        vertical-align: top;\n",
       "    }\n",
       "\n",
       "    .dataframe thead th {\n",
       "        text-align: right;\n",
       "    }\n",
       "</style>\n",
       "<table border=\"1\" class=\"dataframe\">\n",
       "  <thead>\n",
       "    <tr style=\"text-align: right;\">\n",
       "      <th></th>\n",
       "      <th>client_id</th>\n",
       "      <th>sex</th>\n",
       "      <th>birth</th>\n",
       "      <th>id_prod</th>\n",
       "      <th>price</th>\n",
       "      <th>categ</th>\n",
       "      <th>date</th>\n",
       "      <th>session_id</th>\n",
       "      <th>date_str</th>\n",
       "      <th>date_fmt</th>\n",
       "      <th>age</th>\n",
       "    </tr>\n",
       "  </thead>\n",
       "  <tbody>\n",
       "    <tr>\n",
       "      <th>0</th>\n",
       "      <td>c_4410</td>\n",
       "      <td>f</td>\n",
       "      <td>1967</td>\n",
       "      <td>1_385</td>\n",
       "      <td>25.99</td>\n",
       "      <td>1.0</td>\n",
       "      <td>2021-03-22 01:40:22.782925</td>\n",
       "      <td>s_9707</td>\n",
       "      <td>2021-03-22</td>\n",
       "      <td>2021-03-22</td>\n",
       "      <td>57</td>\n",
       "    </tr>\n",
       "    <tr>\n",
       "      <th>1</th>\n",
       "      <td>c_4410</td>\n",
       "      <td>f</td>\n",
       "      <td>1967</td>\n",
       "      <td>1_385</td>\n",
       "      <td>25.99</td>\n",
       "      <td>1.0</td>\n",
       "      <td>2023-02-22 01:40:22.782925</td>\n",
       "      <td>s_345108</td>\n",
       "      <td>2023-02-22</td>\n",
       "      <td>2023-02-22</td>\n",
       "      <td>57</td>\n",
       "    </tr>\n",
       "    <tr>\n",
       "      <th>2</th>\n",
       "      <td>c_4410</td>\n",
       "      <td>f</td>\n",
       "      <td>1967</td>\n",
       "      <td>0_1110</td>\n",
       "      <td>4.71</td>\n",
       "      <td>0.0</td>\n",
       "      <td>2021-11-04 16:28:30.169021</td>\n",
       "      <td>s_114715</td>\n",
       "      <td>2021-11-04</td>\n",
       "      <td>2021-11-04</td>\n",
       "      <td>57</td>\n",
       "    </tr>\n",
       "    <tr>\n",
       "      <th>3</th>\n",
       "      <td>c_4410</td>\n",
       "      <td>f</td>\n",
       "      <td>1967</td>\n",
       "      <td>0_1111</td>\n",
       "      <td>19.99</td>\n",
       "      <td>0.0</td>\n",
       "      <td>2021-03-22 01:27:49.480137</td>\n",
       "      <td>s_9707</td>\n",
       "      <td>2021-03-22</td>\n",
       "      <td>2021-03-22</td>\n",
       "      <td>57</td>\n",
       "    </tr>\n",
       "    <tr>\n",
       "      <th>4</th>\n",
       "      <td>c_4410</td>\n",
       "      <td>f</td>\n",
       "      <td>1967</td>\n",
       "      <td>0_1111</td>\n",
       "      <td>19.99</td>\n",
       "      <td>0.0</td>\n",
       "      <td>2023-02-22 01:27:49.480137</td>\n",
       "      <td>s_345108</td>\n",
       "      <td>2023-02-22</td>\n",
       "      <td>2023-02-22</td>\n",
       "      <td>57</td>\n",
       "    </tr>\n",
       "  </tbody>\n",
       "</table>\n",
       "</div>"
      ],
      "text/plain": [
       "  client_id sex  birth id_prod  price  categ                        date  \\\n",
       "0    c_4410   f   1967   1_385  25.99    1.0  2021-03-22 01:40:22.782925   \n",
       "1    c_4410   f   1967   1_385  25.99    1.0  2023-02-22 01:40:22.782925   \n",
       "2    c_4410   f   1967  0_1110   4.71    0.0  2021-11-04 16:28:30.169021   \n",
       "3    c_4410   f   1967  0_1111  19.99    0.0  2021-03-22 01:27:49.480137   \n",
       "4    c_4410   f   1967  0_1111  19.99    0.0  2023-02-22 01:27:49.480137   \n",
       "\n",
       "  session_id    date_str   date_fmt  age  \n",
       "0     s_9707  2021-03-22 2021-03-22   57  \n",
       "1   s_345108  2023-02-22 2023-02-22   57  \n",
       "2   s_114715  2021-11-04 2021-11-04   57  \n",
       "3     s_9707  2021-03-22 2021-03-22   57  \n",
       "4   s_345108  2023-02-22 2023-02-22   57  "
      ]
     },
     "execution_count": 136,
     "metadata": {},
     "output_type": "execute_result"
    }
   ],
   "source": [
    "datamerge2.head()"
   ]
  },
  {
   "cell_type": "markdown",
   "id": "59884d8b",
   "metadata": {},
   "source": [
    "## Chiffre d'affaire dans le temps"
   ]
  },
  {
   "cell_type": "code",
   "execution_count": 137,
   "id": "f73fbb9e",
   "metadata": {},
   "outputs": [],
   "source": [
    "# Chiffre d'affaire dans le temps groupé par date\n",
    "CAtemp = datamerge2.groupby(by=['date_fmt'])['price'].sum().reset_index()"
   ]
  },
  {
   "cell_type": "code",
   "execution_count": 138,
   "id": "027e6310",
   "metadata": {},
   "outputs": [],
   "source": [
    "# Renommage de la colonne prix par CA\n",
    "CAtemp = CAtemp.rename(columns={'price':'CA'})"
   ]
  },
  {
   "cell_type": "code",
   "execution_count": 139,
   "id": "0677ed62",
   "metadata": {},
   "outputs": [
    {
     "data": {
      "text/html": [
       "<div>\n",
       "<style scoped>\n",
       "    .dataframe tbody tr th:only-of-type {\n",
       "        vertical-align: middle;\n",
       "    }\n",
       "\n",
       "    .dataframe tbody tr th {\n",
       "        vertical-align: top;\n",
       "    }\n",
       "\n",
       "    .dataframe thead th {\n",
       "        text-align: right;\n",
       "    }\n",
       "</style>\n",
       "<table border=\"1\" class=\"dataframe\">\n",
       "  <thead>\n",
       "    <tr style=\"text-align: right;\">\n",
       "      <th></th>\n",
       "      <th>CA</th>\n",
       "    </tr>\n",
       "    <tr>\n",
       "      <th>date_fmt</th>\n",
       "      <th></th>\n",
       "    </tr>\n",
       "  </thead>\n",
       "  <tbody>\n",
       "    <tr>\n",
       "      <th>2021-03-01</th>\n",
       "      <td>16565.22</td>\n",
       "    </tr>\n",
       "    <tr>\n",
       "      <th>2021-03-02</th>\n",
       "      <td>15486.45</td>\n",
       "    </tr>\n",
       "    <tr>\n",
       "      <th>2021-03-03</th>\n",
       "      <td>15198.69</td>\n",
       "    </tr>\n",
       "    <tr>\n",
       "      <th>2021-03-04</th>\n",
       "      <td>15196.07</td>\n",
       "    </tr>\n",
       "    <tr>\n",
       "      <th>2021-03-05</th>\n",
       "      <td>17471.37</td>\n",
       "    </tr>\n",
       "    <tr>\n",
       "      <th>...</th>\n",
       "      <td>...</td>\n",
       "    </tr>\n",
       "    <tr>\n",
       "      <th>2023-02-24</th>\n",
       "      <td>15207.89</td>\n",
       "    </tr>\n",
       "    <tr>\n",
       "      <th>2023-02-25</th>\n",
       "      <td>15761.25</td>\n",
       "    </tr>\n",
       "    <tr>\n",
       "      <th>2023-02-26</th>\n",
       "      <td>16304.72</td>\n",
       "    </tr>\n",
       "    <tr>\n",
       "      <th>2023-02-27</th>\n",
       "      <td>19170.81</td>\n",
       "    </tr>\n",
       "    <tr>\n",
       "      <th>2023-02-28</th>\n",
       "      <td>18105.15</td>\n",
       "    </tr>\n",
       "  </tbody>\n",
       "</table>\n",
       "<p>730 rows × 1 columns</p>\n",
       "</div>"
      ],
      "text/plain": [
       "                  CA\n",
       "date_fmt            \n",
       "2021-03-01  16565.22\n",
       "2021-03-02  15486.45\n",
       "2021-03-03  15198.69\n",
       "2021-03-04  15196.07\n",
       "2021-03-05  17471.37\n",
       "...              ...\n",
       "2023-02-24  15207.89\n",
       "2023-02-25  15761.25\n",
       "2023-02-26  16304.72\n",
       "2023-02-27  19170.81\n",
       "2023-02-28  18105.15\n",
       "\n",
       "[730 rows x 1 columns]"
      ]
     },
     "execution_count": 139,
     "metadata": {},
     "output_type": "execute_result"
    }
   ],
   "source": [
    "evol_CA = CAtemp.set_index('date_fmt')\n",
    "evol_CA.index = pd.to_datetime(evol_CA.index)\n",
    "evol_CA"
   ]
  },
  {
   "cell_type": "code",
   "execution_count": 140,
   "id": "19ab18d3",
   "metadata": {},
   "outputs": [
    {
     "data": {
      "text/html": [
       "<div>\n",
       "<style scoped>\n",
       "    .dataframe tbody tr th:only-of-type {\n",
       "        vertical-align: middle;\n",
       "    }\n",
       "\n",
       "    .dataframe tbody tr th {\n",
       "        vertical-align: top;\n",
       "    }\n",
       "\n",
       "    .dataframe thead th {\n",
       "        text-align: right;\n",
       "    }\n",
       "</style>\n",
       "<table border=\"1\" class=\"dataframe\">\n",
       "  <thead>\n",
       "    <tr style=\"text-align: right;\">\n",
       "      <th></th>\n",
       "      <th>date_fmt</th>\n",
       "      <th>CA</th>\n",
       "    </tr>\n",
       "  </thead>\n",
       "  <tbody>\n",
       "    <tr>\n",
       "      <th>0</th>\n",
       "      <td>2021-03-01</td>\n",
       "      <td>16565.22</td>\n",
       "    </tr>\n",
       "    <tr>\n",
       "      <th>1</th>\n",
       "      <td>2021-03-02</td>\n",
       "      <td>15486.45</td>\n",
       "    </tr>\n",
       "    <tr>\n",
       "      <th>2</th>\n",
       "      <td>2021-03-03</td>\n",
       "      <td>15198.69</td>\n",
       "    </tr>\n",
       "    <tr>\n",
       "      <th>3</th>\n",
       "      <td>2021-03-04</td>\n",
       "      <td>15196.07</td>\n",
       "    </tr>\n",
       "    <tr>\n",
       "      <th>4</th>\n",
       "      <td>2021-03-05</td>\n",
       "      <td>17471.37</td>\n",
       "    </tr>\n",
       "    <tr>\n",
       "      <th>...</th>\n",
       "      <td>...</td>\n",
       "      <td>...</td>\n",
       "    </tr>\n",
       "    <tr>\n",
       "      <th>725</th>\n",
       "      <td>2023-02-24</td>\n",
       "      <td>15207.89</td>\n",
       "    </tr>\n",
       "    <tr>\n",
       "      <th>726</th>\n",
       "      <td>2023-02-25</td>\n",
       "      <td>15761.25</td>\n",
       "    </tr>\n",
       "    <tr>\n",
       "      <th>727</th>\n",
       "      <td>2023-02-26</td>\n",
       "      <td>16304.72</td>\n",
       "    </tr>\n",
       "    <tr>\n",
       "      <th>728</th>\n",
       "      <td>2023-02-27</td>\n",
       "      <td>19170.81</td>\n",
       "    </tr>\n",
       "    <tr>\n",
       "      <th>729</th>\n",
       "      <td>2023-02-28</td>\n",
       "      <td>18105.15</td>\n",
       "    </tr>\n",
       "  </tbody>\n",
       "</table>\n",
       "<p>730 rows × 2 columns</p>\n",
       "</div>"
      ],
      "text/plain": [
       "      date_fmt        CA\n",
       "0   2021-03-01  16565.22\n",
       "1   2021-03-02  15486.45\n",
       "2   2021-03-03  15198.69\n",
       "3   2021-03-04  15196.07\n",
       "4   2021-03-05  17471.37\n",
       "..         ...       ...\n",
       "725 2023-02-24  15207.89\n",
       "726 2023-02-25  15761.25\n",
       "727 2023-02-26  16304.72\n",
       "728 2023-02-27  19170.81\n",
       "729 2023-02-28  18105.15\n",
       "\n",
       "[730 rows x 2 columns]"
      ]
     },
     "execution_count": 140,
     "metadata": {},
     "output_type": "execute_result"
    }
   ],
   "source": [
    "CAtemp"
   ]
  },
  {
   "cell_type": "code",
   "execution_count": 141,
   "id": "bee6bf46",
   "metadata": {},
   "outputs": [
    {
     "data": {
      "image/png": "[encoded data removed]",
      "text/plain": [
       "<Figure size 1500x800 with 1 Axes>"
      ]
     },
     "metadata": {},
     "output_type": "display_data"
    }
   ],
   "source": [
    "# Graphique\n",
    "CAtemp.plot.line(y='CA', x = 'date_fmt',figsize=(15, 8))\n",
    "plt.title(\"Chiffre d'affaire dans le temps\", size = 20)\n",
    "plt.ylabel(\"Chiffre d'affaire\", fontsize= 15)\n",
    "plt.xlabel(\"Temps\", fontsize= 15)\n",
    "plt.show()"
   ]
  },
  {
   "cell_type": "code",
   "execution_count": 142,
   "id": "6477f89d",
   "metadata": {},
   "outputs": [
    {
     "data": {
      "text/html": [
       "<div>\n",
       "<style scoped>\n",
       "    .dataframe tbody tr th:only-of-type {\n",
       "        vertical-align: middle;\n",
       "    }\n",
       "\n",
       "    .dataframe tbody tr th {\n",
       "        vertical-align: top;\n",
       "    }\n",
       "\n",
       "    .dataframe thead th {\n",
       "        text-align: right;\n",
       "    }\n",
       "</style>\n",
       "<table border=\"1\" class=\"dataframe\">\n",
       "  <thead>\n",
       "    <tr style=\"text-align: right;\">\n",
       "      <th></th>\n",
       "      <th>price</th>\n",
       "      <th>categ</th>\n",
       "      <th>date_fmt</th>\n",
       "    </tr>\n",
       "  </thead>\n",
       "  <tbody>\n",
       "    <tr>\n",
       "      <th>18</th>\n",
       "      <td>8.11</td>\n",
       "      <td>0.0</td>\n",
       "      <td>2021-10-01</td>\n",
       "    </tr>\n",
       "    <tr>\n",
       "      <th>40</th>\n",
       "      <td>5.99</td>\n",
       "      <td>0.0</td>\n",
       "      <td>2021-10-21</td>\n",
       "    </tr>\n",
       "    <tr>\n",
       "      <th>63</th>\n",
       "      <td>5.99</td>\n",
       "      <td>0.0</td>\n",
       "      <td>2021-10-14</td>\n",
       "    </tr>\n",
       "    <tr>\n",
       "      <th>108</th>\n",
       "      <td>13.99</td>\n",
       "      <td>1.0</td>\n",
       "      <td>2021-10-24</td>\n",
       "    </tr>\n",
       "    <tr>\n",
       "      <th>142</th>\n",
       "      <td>16.99</td>\n",
       "      <td>0.0</td>\n",
       "      <td>2021-10-04</td>\n",
       "    </tr>\n",
       "    <tr>\n",
       "      <th>...</th>\n",
       "      <td>...</td>\n",
       "      <td>...</td>\n",
       "      <td>...</td>\n",
       "    </tr>\n",
       "    <tr>\n",
       "      <th>687534</th>\n",
       "      <td>6.99</td>\n",
       "      <td>0.0</td>\n",
       "      <td>2021-10-21</td>\n",
       "    </tr>\n",
       "    <tr>\n",
       "      <th>687543</th>\n",
       "      <td>17.99</td>\n",
       "      <td>0.0</td>\n",
       "      <td>2021-10-01</td>\n",
       "    </tr>\n",
       "    <tr>\n",
       "      <th>687544</th>\n",
       "      <td>9.71</td>\n",
       "      <td>0.0</td>\n",
       "      <td>2021-10-21</td>\n",
       "    </tr>\n",
       "    <tr>\n",
       "      <th>687546</th>\n",
       "      <td>5.99</td>\n",
       "      <td>0.0</td>\n",
       "      <td>2021-10-21</td>\n",
       "    </tr>\n",
       "    <tr>\n",
       "      <th>687548</th>\n",
       "      <td>22.17</td>\n",
       "      <td>1.0</td>\n",
       "      <td>2021-10-01</td>\n",
       "    </tr>\n",
       "  </tbody>\n",
       "</table>\n",
       "<p>30022 rows × 3 columns</p>\n",
       "</div>"
      ],
      "text/plain": [
       "        price  categ   date_fmt\n",
       "18       8.11    0.0 2021-10-01\n",
       "40       5.99    0.0 2021-10-21\n",
       "63       5.99    0.0 2021-10-14\n",
       "108     13.99    1.0 2021-10-24\n",
       "142     16.99    0.0 2021-10-04\n",
       "...       ...    ...        ...\n",
       "687534   6.99    0.0 2021-10-21\n",
       "687543  17.99    0.0 2021-10-01\n",
       "687544   9.71    0.0 2021-10-21\n",
       "687546   5.99    0.0 2021-10-21\n",
       "687548  22.17    1.0 2021-10-01\n",
       "\n",
       "[30022 rows x 3 columns]"
      ]
     },
     "execution_count": 142,
     "metadata": {},
     "output_type": "execute_result"
    }
   ],
   "source": [
    "#Nous remarquons une baisse du CA en octobre ; pourquoi ?\n",
    "#Baisse du CA en octobre\n",
    "\n",
    "CAoctobre = datamerge2.loc[(datamerge2.date_fmt>='2021-10-01')&(datamerge2.date_fmt<='2021-10-31'), ['price','categ','date_fmt']]\n",
    "CAoctobre"
   ]
  },
  {
   "cell_type": "code",
   "execution_count": 143,
   "id": "65836e96",
   "metadata": {},
   "outputs": [
    {
     "data": {
      "image/png": "[encoded data removed]",
      "text/plain": [
       "<Figure size 2000x500 with 1 Axes>"
      ]
     },
     "metadata": {},
     "output_type": "display_data"
    }
   ],
   "source": [
    "#Visualisation autour du C.A\n",
    "#Volume des ventes par date et catégorie\n",
    "\n",
    "plt.figure(figsize=(20,5\n",
    "                   ))\n",
    "#sns.histplot(data=CAoctobre, x='date_fmt', hue='categ', palette=[\"#d73501\", \"#004623\", \"#aa00ff\"])\n",
    "sns.histplot(data=CAoctobre, x='date_fmt', hue='categ',)\n",
    "plt.title('Volume des ventes par date et catégorie')\n",
    "plt.show()"
   ]
  },
  {
   "cell_type": "markdown",
   "id": "6ccc820e",
   "metadata": {},
   "source": [
    "observations : La catégorie 1 a fait moins de ventes au mois d'octobre.La catégorie 0 s'est pas mal vendue aussi. Peut-être un bug dans le site en ligne qui venait d'être lancé. "
   ]
  },
  {
   "cell_type": "code",
   "execution_count": 144,
   "id": "1d915e95",
   "metadata": {},
   "outputs": [
    {
     "data": {
      "text/html": [
       "<div>\n",
       "<style scoped>\n",
       "    .dataframe tbody tr th:only-of-type {\n",
       "        vertical-align: middle;\n",
       "    }\n",
       "\n",
       "    .dataframe tbody tr th {\n",
       "        vertical-align: top;\n",
       "    }\n",
       "\n",
       "    .dataframe thead th {\n",
       "        text-align: right;\n",
       "    }\n",
       "</style>\n",
       "<table border=\"1\" class=\"dataframe\">\n",
       "  <thead>\n",
       "    <tr style=\"text-align: right;\">\n",
       "      <th></th>\n",
       "      <th>price</th>\n",
       "      <th>categ</th>\n",
       "      <th>date_fmt</th>\n",
       "    </tr>\n",
       "  </thead>\n",
       "  <tbody>\n",
       "    <tr>\n",
       "      <th>2</th>\n",
       "      <td>4.71</td>\n",
       "      <td>0.0</td>\n",
       "      <td>2021-11-04</td>\n",
       "    </tr>\n",
       "    <tr>\n",
       "      <th>9</th>\n",
       "      <td>14.53</td>\n",
       "      <td>1.0</td>\n",
       "      <td>2021-11-12</td>\n",
       "    </tr>\n",
       "    <tr>\n",
       "      <th>80</th>\n",
       "      <td>25.99</td>\n",
       "      <td>1.0</td>\n",
       "      <td>2021-11-15</td>\n",
       "    </tr>\n",
       "    <tr>\n",
       "      <th>101</th>\n",
       "      <td>4.99</td>\n",
       "      <td>0.0</td>\n",
       "      <td>2021-11-09</td>\n",
       "    </tr>\n",
       "    <tr>\n",
       "      <th>106</th>\n",
       "      <td>12.99</td>\n",
       "      <td>0.0</td>\n",
       "      <td>2021-11-15</td>\n",
       "    </tr>\n",
       "    <tr>\n",
       "      <th>...</th>\n",
       "      <td>...</td>\n",
       "      <td>...</td>\n",
       "      <td>...</td>\n",
       "    </tr>\n",
       "    <tr>\n",
       "      <th>687345</th>\n",
       "      <td>9.64</td>\n",
       "      <td>0.0</td>\n",
       "      <td>2021-11-15</td>\n",
       "    </tr>\n",
       "    <tr>\n",
       "      <th>687352</th>\n",
       "      <td>20.99</td>\n",
       "      <td>1.0</td>\n",
       "      <td>2021-11-25</td>\n",
       "    </tr>\n",
       "    <tr>\n",
       "      <th>687377</th>\n",
       "      <td>10.00</td>\n",
       "      <td>0.0</td>\n",
       "      <td>2021-11-02</td>\n",
       "    </tr>\n",
       "    <tr>\n",
       "      <th>687448</th>\n",
       "      <td>19.44</td>\n",
       "      <td>1.0</td>\n",
       "      <td>2021-11-07</td>\n",
       "    </tr>\n",
       "    <tr>\n",
       "      <th>687477</th>\n",
       "      <td>26.05</td>\n",
       "      <td>1.0</td>\n",
       "      <td>2021-11-07</td>\n",
       "    </tr>\n",
       "  </tbody>\n",
       "</table>\n",
       "<p>28311 rows × 3 columns</p>\n",
       "</div>"
      ],
      "text/plain": [
       "        price  categ   date_fmt\n",
       "2        4.71    0.0 2021-11-04\n",
       "9       14.53    1.0 2021-11-12\n",
       "80      25.99    1.0 2021-11-15\n",
       "101      4.99    0.0 2021-11-09\n",
       "106     12.99    0.0 2021-11-15\n",
       "...       ...    ...        ...\n",
       "687345   9.64    0.0 2021-11-15\n",
       "687352  20.99    1.0 2021-11-25\n",
       "687377  10.00    0.0 2021-11-02\n",
       "687448  19.44    1.0 2021-11-07\n",
       "687477  26.05    1.0 2021-11-07\n",
       "\n",
       "[28311 rows x 3 columns]"
      ]
     },
     "execution_count": 144,
     "metadata": {},
     "output_type": "execute_result"
    }
   ],
   "source": [
    "CAnovembre = datamerge2.loc[(datamerge2.date_fmt>='2021-11-01')&(datamerge2.date_fmt<='2021-11-30'), ['price','categ','date_fmt']]\n",
    "CAnovembre"
   ]
  },
  {
   "cell_type": "code",
   "execution_count": 145,
   "id": "b1e5ac6f",
   "metadata": {},
   "outputs": [
    {
     "data": {
      "image/png": "[encoded data removed]",
      "text/plain": [
       "<Figure size 2000x500 with 1 Axes>"
      ]
     },
     "metadata": {},
     "output_type": "display_data"
    }
   ],
   "source": [
    "#Visualisation autour du C.A\n",
    "#Volume des ventes par date et catégorie\n",
    "\n",
    "plt.figure(figsize=(20,5\n",
    "                   ))\n",
    "#sns.histplot(data=CAnovembre, x='date_fmt', hue='categ', palette=[\"#d73501\", \"#004623\", \"#aa00ff\"])\n",
    "sns.histplot(data=CAnovembre, x='date_fmt', hue='categ',)\n",
    "plt.title('Volume des ventes par date et catégorie')\n",
    "plt.show()"
   ]
  },
  {
   "cell_type": "markdown",
   "id": "0f98d560",
   "metadata": {},
   "source": [
    "Observations : On voit une baisse au niveau de la vente des livres 500 ventes max au lieu de 600 sur le graphique au-dessus. "
   ]
  },
  {
   "cell_type": "markdown",
   "id": "ad9ff05c",
   "metadata": {},
   "source": [
    "## Calcul de la moyenne mobile"
   ]
  },
  {
   "cell_type": "code",
   "execution_count": 146,
   "id": "c157c80b",
   "metadata": {},
   "outputs": [],
   "source": [
    "# Calcul de la moyenne mobile avec le CA dans le temps \n",
    "CAmoymobile = CAtemp\n",
    "CAmoymobile['CA'] = CAmoymobile['CA'].rolling(30).mean()"
   ]
  },
  {
   "cell_type": "code",
   "execution_count": 147,
   "id": "f23a7ea7",
   "metadata": {},
   "outputs": [
    {
     "data": {
      "image/png": "[encoded data removed]",
      "text/plain": [
       "<Figure size 1500x800 with 1 Axes>"
      ]
     },
     "metadata": {},
     "output_type": "display_data"
    }
   ],
   "source": [
    "# Graphique moyenne mobile dans le temps \n",
    "CAmoymobile.plot.line(y='CA', x = 'date_fmt',figsize=(15, 8))\n",
    "plt.title(\"Moyenne mobile dans le temps\", size = 20)\n",
    "plt.ylabel(\"Chiffre d'affaire\", fontsize= 15)\n",
    "plt.xlabel(\"Temps\", fontsize= 15)\n",
    "plt.show()"
   ]
  },
  {
   "cell_type": "markdown",
   "id": "77be463e",
   "metadata": {},
   "source": [
    "Observations: On peut voir une augmentation du CA au mois de septembre de l'année 2021 (peut-être à cause de la rentrée?)\n",
    "ainsi qu'une baisse du mois d'octobre au mois de novembre de l'année 2021 puis, une légère augmentation au mois de février de l'année 2022 (les soldes?) Interprétation : saisonalité pic mois d'octobre et février (isoler le mois d'octobre et regarder la catégorie la plus vendue )\n",
    "\n",
    "Voir s'il y a une tendance ou saisonnalité : non car le pic ne revient pas dans le mois d'octobre suivant "
   ]
  },
  {
   "cell_type": "markdown",
   "id": "0a25c498",
   "metadata": {},
   "source": [
    "## Evolution mensuelle du chiffre d'affaires par catégorie "
   ]
  },
  {
   "cell_type": "markdown",
   "id": "39352860",
   "metadata": {},
   "source": [
    "## Chiffre d'affaire par catégorie"
   ]
  },
  {
   "cell_type": "code",
   "execution_count": 148,
   "id": "c4cdcf2a",
   "metadata": {},
   "outputs": [],
   "source": [
    "# Transformation de la colonne categ en catégorie \n",
    "datamerge2[\"categ\"] = datamerge2[\"categ\"].astype(\"category\")"
   ]
  },
  {
   "cell_type": "code",
   "execution_count": 149,
   "id": "b76e7e2b",
   "metadata": {},
   "outputs": [],
   "source": [
    "# Regroupement par catégorie et par prix \n",
    "CAcateg = datamerge2.groupby('categ')['price'].sum()\n",
    "CAcateg = CAcateg.reset_index()"
   ]
  },
  {
   "cell_type": "code",
   "execution_count": 150,
   "id": "a0b35d0c",
   "metadata": {},
   "outputs": [],
   "source": [
    "# Code couleur liste\n",
    "colors = ['#EA7AF4', '#B43E8F', '#6200B3', '#3B0086']"
   ]
  },
  {
   "cell_type": "code",
   "execution_count": 151,
   "id": "f15b2f2d",
   "metadata": {},
   "outputs": [
    {
     "data": {
      "image/png": "[encoded data removed]",
      "text/plain": [
       "<Figure size 640x480 with 1 Axes>"
      ]
     },
     "metadata": {},
     "output_type": "display_data"
    }
   ],
   "source": [
    "# Création d'un graphique en camembert\n",
    "plt.pie(x=CAcateg['price'], labels=CAcateg['categ'], colors =colors, autopct='%.2f%%')\n",
    "plt.title('CA par catégorie', fontsize=16)\n",
    "plt.show()"
   ]
  },
  {
   "cell_type": "markdown",
   "id": "a10d2289",
   "metadata": {},
   "source": [
    "La catégorie 1 est la catégorie qui effectue le plus gros chiffre d'affaire avec 40 %\n",
    "La catégorie 2 est la catégorie qui fait le moins de chiffre d'affaire avec 23%"
   ]
  },
  {
   "cell_type": "markdown",
   "id": "8e17c235",
   "metadata": {},
   "source": [
    "## Chiffre d'affaire par genre"
   ]
  },
  {
   "cell_type": "code",
   "execution_count": 152,
   "id": "9529c9c3",
   "metadata": {},
   "outputs": [],
   "source": [
    "# Regroupement par sex et par prix\n",
    "CAgenre = datamerge2.groupby(by=['sex'])['price'].sum().reset_index()"
   ]
  },
  {
   "cell_type": "code",
   "execution_count": 153,
   "id": "e7ab6b53",
   "metadata": {},
   "outputs": [],
   "source": [
    "# Renommage de la colonne prix en CA\n",
    "CAgenre = CAgenre.rename(columns={'price':'CA'})"
   ]
  },
  {
   "cell_type": "code",
   "execution_count": 154,
   "id": "3c6f2313",
   "metadata": {},
   "outputs": [
    {
     "data": {
      "image/png": "[encoded data removed]",
      "text/plain": [
       "<Figure size 640x480 with 1 Axes>"
      ]
     },
     "metadata": {},
     "output_type": "display_data"
    }
   ],
   "source": [
    "# Création d'un graphique en camembert\n",
    "plt.pie(x=CAgenre['CA'], labels=CAgenre['sex'], colors =colors, autopct='%.2f%%')\n",
    "plt.title('CA par genre', fontsize=16)\n",
    "plt.show()"
   ]
  },
  {
   "cell_type": "markdown",
   "id": "d71550a9",
   "metadata": {},
   "source": [
    "Les clients sont principalement de sexe masculin mais les deux genre sont représentés de manière équivalente dans le chiffre d'affaire global. Il n'y a donc pas de corrélation entre le genre et le chiffre d'affaire. à confirmer avec test statistiques. "
   ]
  },
  {
   "cell_type": "markdown",
   "id": "0dfdc746",
   "metadata": {},
   "source": [
    "## Chiffre d'affaire par âge"
   ]
  },
  {
   "cell_type": "code",
   "execution_count": 155,
   "id": "19b0862a",
   "metadata": {},
   "outputs": [],
   "source": [
    "# Regroupement par âge et par prix dans un nouveau dataframe\n",
    "ageCA = datamerge2.groupby(by='age')['price'].sum().reset_index()"
   ]
  },
  {
   "cell_type": "code",
   "execution_count": 156,
   "id": "5f52124d",
   "metadata": {},
   "outputs": [],
   "source": [
    "# Renommage de la colonne prix en CA\n",
    "ageCA = ageCA.rename(columns={'price':'CA'})"
   ]
  },
  {
   "cell_type": "code",
   "execution_count": 157,
   "id": "dff0ea56",
   "metadata": {},
   "outputs": [],
   "source": [
    "# Création d'une catégorie tranche d'âge\n",
    "datamerge2['tranche_age'] = pd.qcut(datamerge2['age'], 4)"
   ]
  },
  {
   "cell_type": "code",
   "execution_count": 158,
   "id": "6e696f07",
   "metadata": {},
   "outputs": [],
   "source": [
    "# Création de nouveaux labels pour les tranches d'âges\n",
    "new_labels = ['20 à 37 ans', '37 à 44 ans', '44 à 54 ans', '54 à 95 ans']\n",
    "datamerge2['tranche_age'] = datamerge2['tranche_age'].cat.rename_categories(new_labels)"
   ]
  },
  {
   "cell_type": "code",
   "execution_count": 159,
   "id": "211a6f7e",
   "metadata": {},
   "outputs": [],
   "source": [
    "# Regroupement des prix dans la nouvelle catégorie tranche d'âge \n",
    "df_tranche_age = datamerge2.groupby(by='tranche_age')['price'].sum().reset_index().sort_values(by='price',ascending = False)"
   ]
  },
  {
   "cell_type": "code",
   "execution_count": 160,
   "id": "5af25559",
   "metadata": {},
   "outputs": [
    {
     "data": {
      "text/html": [
       "<div>\n",
       "<style scoped>\n",
       "    .dataframe tbody tr th:only-of-type {\n",
       "        vertical-align: middle;\n",
       "    }\n",
       "\n",
       "    .dataframe tbody tr th {\n",
       "        vertical-align: top;\n",
       "    }\n",
       "\n",
       "    .dataframe thead th {\n",
       "        text-align: right;\n",
       "    }\n",
       "</style>\n",
       "<table border=\"1\" class=\"dataframe\">\n",
       "  <thead>\n",
       "    <tr style=\"text-align: right;\">\n",
       "      <th></th>\n",
       "      <th>tranche_age</th>\n",
       "      <th>price</th>\n",
       "    </tr>\n",
       "  </thead>\n",
       "  <tbody>\n",
       "    <tr>\n",
       "      <th>0</th>\n",
       "      <td>20 à 37 ans</td>\n",
       "      <td>4620445.58</td>\n",
       "    </tr>\n",
       "    <tr>\n",
       "      <th>3</th>\n",
       "      <td>54 à 95 ans</td>\n",
       "      <td>2759035.47</td>\n",
       "    </tr>\n",
       "    <tr>\n",
       "      <th>2</th>\n",
       "      <td>44 à 54 ans</td>\n",
       "      <td>2428434.38</td>\n",
       "    </tr>\n",
       "    <tr>\n",
       "      <th>1</th>\n",
       "      <td>37 à 44 ans</td>\n",
       "      <td>2219747.67</td>\n",
       "    </tr>\n",
       "  </tbody>\n",
       "</table>\n",
       "</div>"
      ],
      "text/plain": [
       "   tranche_age       price\n",
       "0  20 à 37 ans  4620445.58\n",
       "3  54 à 95 ans  2759035.47\n",
       "2  44 à 54 ans  2428434.38\n",
       "1  37 à 44 ans  2219747.67"
      ]
     },
     "execution_count": 160,
     "metadata": {},
     "output_type": "execute_result"
    }
   ],
   "source": [
    "df_tranche_age"
   ]
  },
  {
   "cell_type": "code",
   "execution_count": 161,
   "id": "a7b2c66c",
   "metadata": {},
   "outputs": [],
   "source": [
    "tranche_age = list(df_tranche_age['tranche_age'])"
   ]
  },
  {
   "cell_type": "code",
   "execution_count": 162,
   "id": "ebca4e5f",
   "metadata": {},
   "outputs": [
    {
     "data": {
      "text/plain": [
       "['20 à 37 ans', '54 à 95 ans', '44 à 54 ans', '37 à 44 ans']"
      ]
     },
     "execution_count": 162,
     "metadata": {},
     "output_type": "execute_result"
    }
   ],
   "source": [
    "tranche_age"
   ]
  },
  {
   "cell_type": "code",
   "execution_count": 163,
   "id": "36db196c",
   "metadata": {},
   "outputs": [],
   "source": [
    "CA = list(df_tranche_age['price'])"
   ]
  },
  {
   "cell_type": "code",
   "execution_count": 164,
   "id": "70a24e3e",
   "metadata": {},
   "outputs": [
    {
     "data": {
      "text/plain": [
       "[4620445.58, 2759035.4699999997, 2428434.38, 2219747.67]"
      ]
     },
     "execution_count": 164,
     "metadata": {},
     "output_type": "execute_result"
    }
   ],
   "source": [
    "CA"
   ]
  },
  {
   "cell_type": "code",
   "execution_count": 165,
   "id": "839d2de9",
   "metadata": {},
   "outputs": [
    {
     "data": {
      "text/plain": [
       "<BarContainer object of 4 artists>"
      ]
     },
     "execution_count": 165,
     "metadata": {},
     "output_type": "execute_result"
    },
    {
     "data": {
      "image/png": "[encoded data removed]",
      "text/plain": [
       "<Figure size 640x480 with 1 Axes>"
      ]
     },
     "metadata": {},
     "output_type": "display_data"
    }
   ],
   "source": [
    "plt.bar(tranche_age, CA)"
   ]
  },
  {
   "cell_type": "markdown",
   "id": "5106b546",
   "metadata": {},
   "source": [
    "Observations : La tranche d'âge qui fait le plus de chiffre d'affaire est la catégorie des 20-37 ans et celle qui fait le moins de chiffre d'affaire est celle des 37 à 44 ans."
   ]
  },
  {
   "cell_type": "markdown",
   "id": "06f3ffe2",
   "metadata": {},
   "source": [
    "## Boxplot distribution de la valeur de prix "
   ]
  },
  {
   "cell_type": "code",
   "execution_count": 166,
   "id": "19f348cb",
   "metadata": {},
   "outputs": [
    {
     "data": {
      "image/png": "[encoded data removed]",
      "text/plain": [
       "<Figure size 640x480 with 1 Axes>"
      ]
     },
     "metadata": {},
     "output_type": "display_data"
    }
   ],
   "source": [
    "datamerge2.boxplot(column='price', vert=False)\n",
    "plt.title('Distribution de la valeur des prix')\n",
    "plt.xlabel('Prix')\n",
    "plt.show()"
   ]
  },
  {
   "cell_type": "markdown",
   "id": "74915818",
   "metadata": {},
   "source": [
    "Observations : On peut remarquer que plus le prix est elevé, moins il y a d'achats. "
   ]
  },
  {
   "cell_type": "code",
   "execution_count": 167,
   "id": "4ccad386",
   "metadata": {},
   "outputs": [
    {
     "name": "stdout",
     "output_type": "stream",
     "text": [
      "La moyenne de prix est de :  17.49\n"
     ]
    }
   ],
   "source": [
    "# Calcul de la moyenne \n",
    "moyenne = np.mean(datamerge2['price'])\n",
    "print (\"La moyenne de prix est de : \", round(moyenne, 2))"
   ]
  },
  {
   "cell_type": "code",
   "execution_count": 168,
   "id": "c8cbec0d",
   "metadata": {},
   "outputs": [
    {
     "name": "stdout",
     "output_type": "stream",
     "text": [
      "La mediane des prix est de :  13.99\n"
     ]
    }
   ],
   "source": [
    "# Calcul de la mediane\n",
    "mediane = np.median(datamerge2['price'])\n",
    "print (\"La mediane des prix est de : \", round(mediane, 2))"
   ]
  },
  {
   "cell_type": "code",
   "execution_count": 169,
   "id": "76caea97",
   "metadata": {},
   "outputs": [
    {
     "name": "stdout",
     "output_type": "stream",
     "text": [
      "Quartile Q1 vaut :  9\n",
      "Quartile Q3 vaut :  19\n",
      "L ecart interquartile vaut :  10\n"
     ]
    }
   ],
   "source": [
    "# Calcul de l'interquartile\n",
    "# On calcule le quantile 0,25 qui est le quartile Q1\n",
    "Q1 = round(np.percentile(datamerge2['price'], 25))\n",
    "print(\"Quartile Q1 vaut : \", round(np.percentile(datamerge2['price'], 25)))\n",
    " \n",
    "# On calcule le quantile 0,75 qui est le quartile Q3\n",
    "Q3 = round(np.percentile(datamerge2['price'], 75))\n",
    "print(\"Quartile Q3 vaut : \", round(np.percentile(datamerge2['price'], 75)))\n",
    " \n",
    "# L ecart interquartile est Q3 - Q1\n",
    "print(\"L ecart interquartile vaut : \", Q3 - Q1)"
   ]
  },
  {
   "cell_type": "markdown",
   "id": "780567ef",
   "metadata": {},
   "source": [
    "50 % des produits ont un prix compris entre 9 euros et 19 euros "
   ]
  },
  {
   "cell_type": "markdown",
   "id": "47996dfc",
   "metadata": {},
   "source": [
    "## Analyse top et flop des produits (10 produits les plus vendus et moins vendus )"
   ]
  },
  {
   "cell_type": "code",
   "execution_count": 170,
   "id": "dfd04f49",
   "metadata": {},
   "outputs": [
    {
     "name": "stdout",
     "output_type": "stream",
     "text": [
      "Liste des produits et chiffre d'affaire effectif :\n"
     ]
    },
    {
     "data": {
      "text/html": [
       "<div>\n",
       "<style scoped>\n",
       "    .dataframe tbody tr th:only-of-type {\n",
       "        vertical-align: middle;\n",
       "    }\n",
       "\n",
       "    .dataframe tbody tr th {\n",
       "        vertical-align: top;\n",
       "    }\n",
       "\n",
       "    .dataframe thead th {\n",
       "        text-align: right;\n",
       "    }\n",
       "</style>\n",
       "<table border=\"1\" class=\"dataframe\">\n",
       "  <thead>\n",
       "    <tr style=\"text-align: right;\">\n",
       "      <th></th>\n",
       "      <th>id_prod</th>\n",
       "      <th>CA</th>\n",
       "    </tr>\n",
       "  </thead>\n",
       "  <tbody>\n",
       "    <tr>\n",
       "      <th>0</th>\n",
       "      <td>0_0</td>\n",
       "      <td>4657.50</td>\n",
       "    </tr>\n",
       "    <tr>\n",
       "      <th>1</th>\n",
       "      <td>0_1</td>\n",
       "      <td>5352.13</td>\n",
       "    </tr>\n",
       "    <tr>\n",
       "      <th>2</th>\n",
       "      <td>0_10</td>\n",
       "      <td>394.90</td>\n",
       "    </tr>\n",
       "    <tr>\n",
       "      <th>3</th>\n",
       "      <td>0_100</td>\n",
       "      <td>61.80</td>\n",
       "    </tr>\n",
       "    <tr>\n",
       "      <th>4</th>\n",
       "      <td>0_1000</td>\n",
       "      <td>2954.88</td>\n",
       "    </tr>\n",
       "    <tr>\n",
       "      <th>...</th>\n",
       "      <td>...</td>\n",
       "      <td>...</td>\n",
       "    </tr>\n",
       "    <tr>\n",
       "      <th>3260</th>\n",
       "      <td>2_95</td>\n",
       "      <td>395.96</td>\n",
       "    </tr>\n",
       "    <tr>\n",
       "      <th>3261</th>\n",
       "      <td>2_96</td>\n",
       "      <td>28650.18</td>\n",
       "    </tr>\n",
       "    <tr>\n",
       "      <th>3262</th>\n",
       "      <td>2_97</td>\n",
       "      <td>2092.87</td>\n",
       "    </tr>\n",
       "    <tr>\n",
       "      <th>3263</th>\n",
       "      <td>2_98</td>\n",
       "      <td>149.74</td>\n",
       "    </tr>\n",
       "    <tr>\n",
       "      <th>3264</th>\n",
       "      <td>2_99</td>\n",
       "      <td>594.93</td>\n",
       "    </tr>\n",
       "  </tbody>\n",
       "</table>\n",
       "<p>3265 rows × 2 columns</p>\n",
       "</div>"
      ],
      "text/plain": [
       "     id_prod        CA\n",
       "0        0_0   4657.50\n",
       "1        0_1   5352.13\n",
       "2       0_10    394.90\n",
       "3      0_100     61.80\n",
       "4     0_1000   2954.88\n",
       "...      ...       ...\n",
       "3260    2_95    395.96\n",
       "3261    2_96  28650.18\n",
       "3262    2_97   2092.87\n",
       "3263    2_98    149.74\n",
       "3264    2_99    594.93\n",
       "\n",
       "[3265 rows x 2 columns]"
      ]
     },
     "execution_count": 170,
     "metadata": {},
     "output_type": "execute_result"
    }
   ],
   "source": [
    "# Chiffre d'affaire par produits\n",
    "CAprod = datamerge2.groupby(by=['id_prod'])['price'].sum().reset_index()\n",
    "CAprod = CAprod.rename(columns={'price':'CA'})\n",
    "print(\"Liste des produits et chiffre d'affaire effectif :\")\n",
    "CAprod"
   ]
  },
  {
   "cell_type": "code",
   "execution_count": 171,
   "id": "32d02dcd",
   "metadata": {},
   "outputs": [
    {
     "data": {
      "text/html": [
       "<div>\n",
       "<style scoped>\n",
       "    .dataframe tbody tr th:only-of-type {\n",
       "        vertical-align: middle;\n",
       "    }\n",
       "\n",
       "    .dataframe tbody tr th {\n",
       "        vertical-align: top;\n",
       "    }\n",
       "\n",
       "    .dataframe thead th {\n",
       "        text-align: right;\n",
       "    }\n",
       "</style>\n",
       "<table border=\"1\" class=\"dataframe\">\n",
       "  <thead>\n",
       "    <tr style=\"text-align: right;\">\n",
       "      <th></th>\n",
       "      <th>id_prod</th>\n",
       "      <th>CA</th>\n",
       "    </tr>\n",
       "  </thead>\n",
       "  <tbody>\n",
       "    <tr>\n",
       "      <th>3096</th>\n",
       "      <td>2_159</td>\n",
       "      <td>94893.50</td>\n",
       "    </tr>\n",
       "    <tr>\n",
       "      <th>3070</th>\n",
       "      <td>2_135</td>\n",
       "      <td>69334.95</td>\n",
       "    </tr>\n",
       "    <tr>\n",
       "      <th>3045</th>\n",
       "      <td>2_112</td>\n",
       "      <td>65407.76</td>\n",
       "    </tr>\n",
       "    <tr>\n",
       "      <th>3034</th>\n",
       "      <td>2_102</td>\n",
       "      <td>60736.78</td>\n",
       "    </tr>\n",
       "    <tr>\n",
       "      <th>3152</th>\n",
       "      <td>2_209</td>\n",
       "      <td>56971.86</td>\n",
       "    </tr>\n",
       "    <tr>\n",
       "      <th>2619</th>\n",
       "      <td>1_395</td>\n",
       "      <td>56617.47</td>\n",
       "    </tr>\n",
       "    <tr>\n",
       "      <th>2591</th>\n",
       "      <td>1_369</td>\n",
       "      <td>56136.60</td>\n",
       "    </tr>\n",
       "    <tr>\n",
       "      <th>3043</th>\n",
       "      <td>2_110</td>\n",
       "      <td>53846.25</td>\n",
       "    </tr>\n",
       "    <tr>\n",
       "      <th>2607</th>\n",
       "      <td>1_383</td>\n",
       "      <td>53834.43</td>\n",
       "    </tr>\n",
       "    <tr>\n",
       "      <th>2641</th>\n",
       "      <td>1_414</td>\n",
       "      <td>53522.18</td>\n",
       "    </tr>\n",
       "  </tbody>\n",
       "</table>\n",
       "</div>"
      ],
      "text/plain": [
       "     id_prod        CA\n",
       "3096   2_159  94893.50\n",
       "3070   2_135  69334.95\n",
       "3045   2_112  65407.76\n",
       "3034   2_102  60736.78\n",
       "3152   2_209  56971.86\n",
       "2619   1_395  56617.47\n",
       "2591   1_369  56136.60\n",
       "3043   2_110  53846.25\n",
       "2607   1_383  53834.43\n",
       "2641   1_414  53522.18"
      ]
     },
     "execution_count": 171,
     "metadata": {},
     "output_type": "execute_result"
    }
   ],
   "source": [
    "# Top 10 produits triés par valeur CA\n",
    "CAprod.sort_values(by=[\"CA\"], ascending=False).head(10)"
   ]
  },
  {
   "cell_type": "code",
   "execution_count": 172,
   "id": "5861d5d0",
   "metadata": {},
   "outputs": [
    {
     "data": {
      "text/html": [
       "<div>\n",
       "<style scoped>\n",
       "    .dataframe tbody tr th:only-of-type {\n",
       "        vertical-align: middle;\n",
       "    }\n",
       "\n",
       "    .dataframe tbody tr th {\n",
       "        vertical-align: top;\n",
       "    }\n",
       "\n",
       "    .dataframe thead th {\n",
       "        text-align: right;\n",
       "    }\n",
       "</style>\n",
       "<table border=\"1\" class=\"dataframe\">\n",
       "  <thead>\n",
       "    <tr style=\"text-align: right;\">\n",
       "      <th></th>\n",
       "      <th>id_prod</th>\n",
       "      <th>CA</th>\n",
       "    </tr>\n",
       "  </thead>\n",
       "  <tbody>\n",
       "    <tr>\n",
       "      <th>595</th>\n",
       "      <td>0_1539</td>\n",
       "      <td>0.99</td>\n",
       "    </tr>\n",
       "    <tr>\n",
       "      <th>313</th>\n",
       "      <td>0_1284</td>\n",
       "      <td>1.38</td>\n",
       "    </tr>\n",
       "    <tr>\n",
       "      <th>719</th>\n",
       "      <td>0_1653</td>\n",
       "      <td>1.98</td>\n",
       "    </tr>\n",
       "    <tr>\n",
       "      <th>1784</th>\n",
       "      <td>0_541</td>\n",
       "      <td>1.99</td>\n",
       "    </tr>\n",
       "    <tr>\n",
       "      <th>665</th>\n",
       "      <td>0_1601</td>\n",
       "      <td>1.99</td>\n",
       "    </tr>\n",
       "    <tr>\n",
       "      <th>2079</th>\n",
       "      <td>0_807</td>\n",
       "      <td>1.99</td>\n",
       "    </tr>\n",
       "    <tr>\n",
       "      <th>802</th>\n",
       "      <td>0_1728</td>\n",
       "      <td>2.27</td>\n",
       "    </tr>\n",
       "    <tr>\n",
       "      <th>549</th>\n",
       "      <td>0_1498</td>\n",
       "      <td>2.48</td>\n",
       "    </tr>\n",
       "    <tr>\n",
       "      <th>2179</th>\n",
       "      <td>0_898</td>\n",
       "      <td>2.54</td>\n",
       "    </tr>\n",
       "    <tr>\n",
       "      <th>925</th>\n",
       "      <td>0_1840</td>\n",
       "      <td>2.56</td>\n",
       "    </tr>\n",
       "  </tbody>\n",
       "</table>\n",
       "</div>"
      ],
      "text/plain": [
       "     id_prod    CA\n",
       "595   0_1539  0.99\n",
       "313   0_1284  1.38\n",
       "719   0_1653  1.98\n",
       "1784   0_541  1.99\n",
       "665   0_1601  1.99\n",
       "2079   0_807  1.99\n",
       "802   0_1728  2.27\n",
       "549   0_1498  2.48\n",
       "2179   0_898  2.54\n",
       "925   0_1840  2.56"
      ]
     },
     "execution_count": 172,
     "metadata": {},
     "output_type": "execute_result"
    }
   ],
   "source": [
    "# Top 10 produits les moins vendus trés par valeurs CA\n",
    "CAprod.sort_values(by=[\"CA\"], ascending=True).head(10)"
   ]
  },
  {
   "cell_type": "markdown",
   "id": "5e544a98",
   "metadata": {},
   "source": [
    "## Prix moyen par catégorie"
   ]
  },
  {
   "cell_type": "code",
   "execution_count": 173,
   "id": "34b0fe7f",
   "metadata": {},
   "outputs": [],
   "source": [
    "# Regroupement par catégorie et par prix \n",
    "MoyPrixCateg = datamerge2.groupby('categ')['price'].mean()"
   ]
  },
  {
   "cell_type": "code",
   "execution_count": 174,
   "id": "73fac73b",
   "metadata": {},
   "outputs": [
    {
     "name": "stdout",
     "output_type": "stream",
     "text": [
      "categ\n",
      "0.0    10.638188\n",
      "1.0    20.491600\n",
      "2.0    76.207412\n",
      "Name: price, dtype: float64\n"
     ]
    }
   ],
   "source": [
    "print(MoyPrixCateg)"
   ]
  },
  {
   "cell_type": "code",
   "execution_count": 175,
   "id": "ba7d7522",
   "metadata": {},
   "outputs": [
    {
     "data": {
      "image/png": "[encoded data removed]",
      "text/plain": [
       "<Figure size 1500x800 with 1 Axes>"
      ]
     },
     "metadata": {},
     "output_type": "display_data"
    }
   ],
   "source": [
    "round(MoyPrixCateg).plot.bar(x='categ', y='price', figsize=(15, 8))\n",
    "plt.title(\"Prix moyen d'un produit par catégorie\", size = 20)\n",
    "plt.ylabel(\"Prix (en €)\", size = 15)\n",
    "plt.xlabel(\"Catégorie\", size = 15)\n",
    "plt.show()"
   ]
  },
  {
   "cell_type": "markdown",
   "id": "adc3069b",
   "metadata": {},
   "source": [
    "Observation : Le prix moyen des produits par catégorie est de 11 euros pour la catégorie 1, 20 euros pour la catégorie 2 et 76 euros pour la catégorie 3. On voit qu'il y aun écart de prix énorme entre la catégorie 1 et 2. La catégorie 2 doit moins bien se vendre car c'est la catégorie la plus chère. "
   ]
  },
  {
   "cell_type": "markdown",
   "id": "7207d4ae",
   "metadata": {},
   "source": [
    "## Répartition du chiffre d'affaire et courbe de Lorenz"
   ]
  },
  {
   "cell_type": "code",
   "execution_count": 176,
   "id": "c13305af",
   "metadata": {},
   "outputs": [],
   "source": [
    "# Trace la courbe de Lorenz chiffre d'affaires/clients\n",
    "CA_repartition =datamerge2.groupby('client_id', as_index=False)['price'].sum()"
   ]
  },
  {
   "cell_type": "code",
   "execution_count": 177,
   "id": "7838d624",
   "metadata": {},
   "outputs": [],
   "source": [
    "CA_repartition = CA_repartition.rename(columns={'price':'CA'})"
   ]
  },
  {
   "cell_type": "code",
   "execution_count": 178,
   "id": "b61a72e7",
   "metadata": {},
   "outputs": [
    {
     "data": {
      "text/html": [
       "<div>\n",
       "<style scoped>\n",
       "    .dataframe tbody tr th:only-of-type {\n",
       "        vertical-align: middle;\n",
       "    }\n",
       "\n",
       "    .dataframe tbody tr th {\n",
       "        vertical-align: top;\n",
       "    }\n",
       "\n",
       "    .dataframe thead th {\n",
       "        text-align: right;\n",
       "    }\n",
       "</style>\n",
       "<table border=\"1\" class=\"dataframe\">\n",
       "  <thead>\n",
       "    <tr style=\"text-align: right;\">\n",
       "      <th></th>\n",
       "      <th>client_id</th>\n",
       "      <th>CA</th>\n",
       "    </tr>\n",
       "  </thead>\n",
       "  <tbody>\n",
       "    <tr>\n",
       "      <th>677</th>\n",
       "      <td>c_1609</td>\n",
       "      <td>326039.89</td>\n",
       "    </tr>\n",
       "    <tr>\n",
       "      <th>4388</th>\n",
       "      <td>c_4958</td>\n",
       "      <td>290227.03</td>\n",
       "    </tr>\n",
       "    <tr>\n",
       "      <th>6337</th>\n",
       "      <td>c_6714</td>\n",
       "      <td>153918.60</td>\n",
       "    </tr>\n",
       "    <tr>\n",
       "      <th>2724</th>\n",
       "      <td>c_3454</td>\n",
       "      <td>114110.57</td>\n",
       "    </tr>\n",
       "    <tr>\n",
       "      <th>634</th>\n",
       "      <td>c_1570</td>\n",
       "      <td>5285.82</td>\n",
       "    </tr>\n",
       "    <tr>\n",
       "      <th>...</th>\n",
       "      <td>...</td>\n",
       "      <td>...</td>\n",
       "    </tr>\n",
       "    <tr>\n",
       "      <th>3855</th>\n",
       "      <td>c_4478</td>\n",
       "      <td>13.36</td>\n",
       "    </tr>\n",
       "    <tr>\n",
       "      <th>4044</th>\n",
       "      <td>c_4648</td>\n",
       "      <td>11.20</td>\n",
       "    </tr>\n",
       "    <tr>\n",
       "      <th>7889</th>\n",
       "      <td>c_8114</td>\n",
       "      <td>9.98</td>\n",
       "    </tr>\n",
       "    <tr>\n",
       "      <th>7918</th>\n",
       "      <td>c_8140</td>\n",
       "      <td>8.30</td>\n",
       "    </tr>\n",
       "    <tr>\n",
       "      <th>8151</th>\n",
       "      <td>c_8351</td>\n",
       "      <td>6.31</td>\n",
       "    </tr>\n",
       "  </tbody>\n",
       "</table>\n",
       "<p>8600 rows × 2 columns</p>\n",
       "</div>"
      ],
      "text/plain": [
       "     client_id         CA\n",
       "677     c_1609  326039.89\n",
       "4388    c_4958  290227.03\n",
       "6337    c_6714  153918.60\n",
       "2724    c_3454  114110.57\n",
       "634     c_1570    5285.82\n",
       "...        ...        ...\n",
       "3855    c_4478      13.36\n",
       "4044    c_4648      11.20\n",
       "7889    c_8114       9.98\n",
       "7918    c_8140       8.30\n",
       "8151    c_8351       6.31\n",
       "\n",
       "[8600 rows x 2 columns]"
      ]
     },
     "execution_count": 178,
     "metadata": {},
     "output_type": "execute_result"
    }
   ],
   "source": [
    "CA_repartition.sort_values(by=[\"CA\"], ascending=False)"
   ]
  },
  {
   "cell_type": "code",
   "execution_count": 179,
   "id": "8eab102f",
   "metadata": {},
   "outputs": [],
   "source": [
    "# Courbe de Lorenz\n",
    "dep = CA_repartition[\"CA\"].values\n",
    "\n",
    "n = len(dep)\n",
    "lorenz = np.cumsum(np.sort(dep)) / dep.sum()\n",
    "lorenz = np.append([0],lorenz)"
   ]
  },
  {
   "cell_type": "code",
   "execution_count": 180,
   "id": "b66543e6",
   "metadata": {},
   "outputs": [
    {
     "data": {
      "image/png": "[encoded data removed]",
      "text/plain": [
       "<Figure size 1200x800 with 1 Axes>"
      ]
     },
     "metadata": {},
     "output_type": "display_data"
    }
   ],
   "source": [
    "# Courbe de Lorenz\n",
    "\n",
    "plt.figure (figsize= (12,8))\n",
    "xaxis = np.linspace(0-1/n,1+1/n,n+1) \n",
    "plt.plot(xaxis,lorenz,drawstyle='steps-post')\n",
    "plt.plot([0, 1], [0, 1], color = 'red', linestyle = 'solid',label=\"Courbe d'égalité parfaite\")\n",
    "\n",
    "plt.show()"
   ]
  },
  {
   "cell_type": "code",
   "execution_count": 181,
   "id": "ab040c69",
   "metadata": {},
   "outputs": [
    {
     "name": "stdout",
     "output_type": "stream",
     "text": [
      "L'indice de Gini est égal à 0.442\n"
     ]
    }
   ],
   "source": [
    "#Indice de gini\n",
    "\n",
    "n = len(lorenz)\n",
    "\n",
    "AUC = (lorenz.sum()-lorenz[-1])/n \n",
    "\n",
    "# S est la surface entre la première bissectrice et le courbe de Lorenz\n",
    "\n",
    "S = 0.5 - AUC \n",
    "\n",
    "# Définition de l'indicateur de Gini\n",
    "\n",
    "gini = (2*S).round(3)\n",
    "\n",
    "print(f\"L'indice de Gini est égal à {gini}\")"
   ]
  },
  {
   "cell_type": "markdown",
   "id": "8cd4d6d9",
   "metadata": {},
   "source": [
    "On peut voir qu'il y a une répartition inégalitaire du chiffre d'affaire au niveau des clients car l'indice se rapproche de 1. "
   ]
  },
  {
   "cell_type": "code",
   "execution_count": 182,
   "id": "e9eb4831",
   "metadata": {},
   "outputs": [
    {
     "data": {
      "text/plain": [
       "client_id\n",
       "c_1609    326039.89\n",
       "c_4958    290227.03\n",
       "c_6714    153918.60\n",
       "c_3454    114110.57\n",
       "c_1570      5285.82\n",
       "c_3263      5276.87\n",
       "c_2140      5260.18\n",
       "c_2899      5214.05\n",
       "c_7319      5155.77\n",
       "c_7959      5135.75\n",
       "Name: price, dtype: float64"
      ]
     },
     "execution_count": 182,
     "metadata": {},
     "output_type": "execute_result"
    }
   ],
   "source": [
    "# Groupe de clients qui font le plus de CA:\n",
    "CA_client = datamerge2.groupby([\"client_id\"])[\"price\"].sum().nlargest(10)\n",
    "CA_client"
   ]
  },
  {
   "cell_type": "code",
   "execution_count": 183,
   "id": "5bf38089",
   "metadata": {},
   "outputs": [
    {
     "data": {
      "text/plain": [
       "Text(0.5, 1.0, 'Clients qui font le plus de CA')"
      ]
     },
     "execution_count": 183,
     "metadata": {},
     "output_type": "execute_result"
    },
    {
     "data": {
      "image/png": "[encoded data removed]",
      "text/plain": [
       "<Figure size 1000x500 with 1 Axes>"
      ]
     },
     "metadata": {},
     "output_type": "display_data"
    }
   ],
   "source": [
    "# Clients qui font le plus de CA :\n",
    "\n",
    "plt.figure(figsize = (10,5))\n",
    "CA_client.plot.bar(x='client_id', y='price')\n",
    "plt.xlabel('Clients les plus fidèles')\n",
    "plt.ylabel('C.A  €')\n",
    "\n",
    "plt.title('Clients qui font le plus de CA')"
   ]
  },
  {
   "cell_type": "markdown",
   "id": "e4b5eafe",
   "metadata": {},
   "source": [
    "On peut voir que la majorité du CA est fait par 4 clients (clients professionnels BTOB)"
   ]
  },
  {
   "cell_type": "code",
   "execution_count": 184,
   "id": "107e34cb",
   "metadata": {},
   "outputs": [
    {
     "data": {
      "text/html": [
       "<div>\n",
       "<style scoped>\n",
       "    .dataframe tbody tr th:only-of-type {\n",
       "        vertical-align: middle;\n",
       "    }\n",
       "\n",
       "    .dataframe tbody tr th {\n",
       "        vertical-align: top;\n",
       "    }\n",
       "\n",
       "    .dataframe thead th {\n",
       "        text-align: right;\n",
       "    }\n",
       "</style>\n",
       "<table border=\"1\" class=\"dataframe\">\n",
       "  <thead>\n",
       "    <tr style=\"text-align: right;\">\n",
       "      <th></th>\n",
       "      <th>client_id</th>\n",
       "      <th>sex</th>\n",
       "      <th>birth</th>\n",
       "      <th>id_prod</th>\n",
       "      <th>price</th>\n",
       "      <th>categ</th>\n",
       "      <th>date</th>\n",
       "      <th>session_id</th>\n",
       "      <th>date_str</th>\n",
       "      <th>date_fmt</th>\n",
       "      <th>age</th>\n",
       "      <th>tranche_age</th>\n",
       "    </tr>\n",
       "  </thead>\n",
       "  <tbody>\n",
       "    <tr>\n",
       "      <th>102973</th>\n",
       "      <td>c_4958</td>\n",
       "      <td>m</td>\n",
       "      <td>1999</td>\n",
       "      <td>1_587</td>\n",
       "      <td>4.99</td>\n",
       "      <td>1.0</td>\n",
       "      <td>2021-11-17 18:53:48.958205</td>\n",
       "      <td>s_121110</td>\n",
       "      <td>2021-11-17</td>\n",
       "      <td>2021-11-17</td>\n",
       "      <td>25</td>\n",
       "      <td>20 à 37 ans</td>\n",
       "    </tr>\n",
       "    <tr>\n",
       "      <th>102974</th>\n",
       "      <td>c_4958</td>\n",
       "      <td>m</td>\n",
       "      <td>1999</td>\n",
       "      <td>1_587</td>\n",
       "      <td>4.99</td>\n",
       "      <td>1.0</td>\n",
       "      <td>2022-04-17 18:53:48.958205</td>\n",
       "      <td>s_195468</td>\n",
       "      <td>2022-04-17</td>\n",
       "      <td>2022-04-17</td>\n",
       "      <td>25</td>\n",
       "      <td>20 à 37 ans</td>\n",
       "    </tr>\n",
       "    <tr>\n",
       "      <th>102975</th>\n",
       "      <td>c_4958</td>\n",
       "      <td>m</td>\n",
       "      <td>1999</td>\n",
       "      <td>1_587</td>\n",
       "      <td>4.99</td>\n",
       "      <td>1.0</td>\n",
       "      <td>2022-08-17 18:53:48.958205</td>\n",
       "      <td>s_254678</td>\n",
       "      <td>2022-08-17</td>\n",
       "      <td>2022-08-17</td>\n",
       "      <td>25</td>\n",
       "      <td>20 à 37 ans</td>\n",
       "    </tr>\n",
       "    <tr>\n",
       "      <th>102976</th>\n",
       "      <td>c_4958</td>\n",
       "      <td>m</td>\n",
       "      <td>1999</td>\n",
       "      <td>1_587</td>\n",
       "      <td>4.99</td>\n",
       "      <td>1.0</td>\n",
       "      <td>2022-10-17 18:53:48.958205</td>\n",
       "      <td>s_283920</td>\n",
       "      <td>2022-10-17</td>\n",
       "      <td>2022-10-17</td>\n",
       "      <td>25</td>\n",
       "      <td>20 à 37 ans</td>\n",
       "    </tr>\n",
       "    <tr>\n",
       "      <th>102977</th>\n",
       "      <td>c_4958</td>\n",
       "      <td>m</td>\n",
       "      <td>1999</td>\n",
       "      <td>2_228</td>\n",
       "      <td>225.17</td>\n",
       "      <td>2.0</td>\n",
       "      <td>2021-03-20 18:30:57.991560</td>\n",
       "      <td>s_9092</td>\n",
       "      <td>2021-03-20</td>\n",
       "      <td>2021-03-20</td>\n",
       "      <td>25</td>\n",
       "      <td>20 à 37 ans</td>\n",
       "    </tr>\n",
       "    <tr>\n",
       "      <th>...</th>\n",
       "      <td>...</td>\n",
       "      <td>...</td>\n",
       "      <td>...</td>\n",
       "      <td>...</td>\n",
       "      <td>...</td>\n",
       "      <td>...</td>\n",
       "      <td>...</td>\n",
       "      <td>...</td>\n",
       "      <td>...</td>\n",
       "      <td>...</td>\n",
       "      <td>...</td>\n",
       "      <td>...</td>\n",
       "    </tr>\n",
       "    <tr>\n",
       "      <th>648432</th>\n",
       "      <td>c_3454</td>\n",
       "      <td>m</td>\n",
       "      <td>1969</td>\n",
       "      <td>1_651</td>\n",
       "      <td>18.99</td>\n",
       "      <td>1.0</td>\n",
       "      <td>2022-05-14 07:01:23.027009</td>\n",
       "      <td>s_208255</td>\n",
       "      <td>2022-05-14</td>\n",
       "      <td>2022-05-14</td>\n",
       "      <td>55</td>\n",
       "      <td>54 à 95 ans</td>\n",
       "    </tr>\n",
       "    <tr>\n",
       "      <th>648433</th>\n",
       "      <td>c_3454</td>\n",
       "      <td>m</td>\n",
       "      <td>1969</td>\n",
       "      <td>1_651</td>\n",
       "      <td>18.99</td>\n",
       "      <td>1.0</td>\n",
       "      <td>2022-08-25 14:43:08.578786</td>\n",
       "      <td>s_258288</td>\n",
       "      <td>2022-08-25</td>\n",
       "      <td>2022-08-25</td>\n",
       "      <td>55</td>\n",
       "      <td>54 à 95 ans</td>\n",
       "    </tr>\n",
       "    <tr>\n",
       "      <th>648434</th>\n",
       "      <td>c_3454</td>\n",
       "      <td>m</td>\n",
       "      <td>1969</td>\n",
       "      <td>0_2001</td>\n",
       "      <td>7.99</td>\n",
       "      <td>0.0</td>\n",
       "      <td>2022-01-16 14:26:31.241993</td>\n",
       "      <td>s_150684</td>\n",
       "      <td>2022-01-16</td>\n",
       "      <td>2022-01-16</td>\n",
       "      <td>55</td>\n",
       "      <td>54 à 95 ans</td>\n",
       "    </tr>\n",
       "    <tr>\n",
       "      <th>648435</th>\n",
       "      <td>c_3454</td>\n",
       "      <td>m</td>\n",
       "      <td>1969</td>\n",
       "      <td>1_387</td>\n",
       "      <td>9.99</td>\n",
       "      <td>1.0</td>\n",
       "      <td>2021-11-14 06:58:26.437656</td>\n",
       "      <td>s_119415</td>\n",
       "      <td>2021-11-14</td>\n",
       "      <td>2021-11-14</td>\n",
       "      <td>55</td>\n",
       "      <td>54 à 95 ans</td>\n",
       "    </tr>\n",
       "    <tr>\n",
       "      <th>648436</th>\n",
       "      <td>c_3454</td>\n",
       "      <td>m</td>\n",
       "      <td>1969</td>\n",
       "      <td>1_387</td>\n",
       "      <td>9.99</td>\n",
       "      <td>1.0</td>\n",
       "      <td>2022-04-14 06:58:26.437656</td>\n",
       "      <td>s_193823</td>\n",
       "      <td>2022-04-14</td>\n",
       "      <td>2022-04-14</td>\n",
       "      <td>55</td>\n",
       "      <td>54 à 95 ans</td>\n",
       "    </tr>\n",
       "  </tbody>\n",
       "</table>\n",
       "<p>46800 rows × 12 columns</p>\n",
       "</div>"
      ],
      "text/plain": [
       "       client_id sex  birth id_prod   price categ                        date  \\\n",
       "102973    c_4958   m   1999   1_587    4.99   1.0  2021-11-17 18:53:48.958205   \n",
       "102974    c_4958   m   1999   1_587    4.99   1.0  2022-04-17 18:53:48.958205   \n",
       "102975    c_4958   m   1999   1_587    4.99   1.0  2022-08-17 18:53:48.958205   \n",
       "102976    c_4958   m   1999   1_587    4.99   1.0  2022-10-17 18:53:48.958205   \n",
       "102977    c_4958   m   1999   2_228  225.17   2.0  2021-03-20 18:30:57.991560   \n",
       "...          ...  ..    ...     ...     ...   ...                         ...   \n",
       "648432    c_3454   m   1969   1_651   18.99   1.0  2022-05-14 07:01:23.027009   \n",
       "648433    c_3454   m   1969   1_651   18.99   1.0  2022-08-25 14:43:08.578786   \n",
       "648434    c_3454   m   1969  0_2001    7.99   0.0  2022-01-16 14:26:31.241993   \n",
       "648435    c_3454   m   1969   1_387    9.99   1.0  2021-11-14 06:58:26.437656   \n",
       "648436    c_3454   m   1969   1_387    9.99   1.0  2022-04-14 06:58:26.437656   \n",
       "\n",
       "       session_id    date_str   date_fmt  age  tranche_age  \n",
       "102973   s_121110  2021-11-17 2021-11-17   25  20 à 37 ans  \n",
       "102974   s_195468  2022-04-17 2022-04-17   25  20 à 37 ans  \n",
       "102975   s_254678  2022-08-17 2022-08-17   25  20 à 37 ans  \n",
       "102976   s_283920  2022-10-17 2022-10-17   25  20 à 37 ans  \n",
       "102977     s_9092  2021-03-20 2021-03-20   25  20 à 37 ans  \n",
       "...           ...         ...        ...  ...          ...  \n",
       "648432   s_208255  2022-05-14 2022-05-14   55  54 à 95 ans  \n",
       "648433   s_258288  2022-08-25 2022-08-25   55  54 à 95 ans  \n",
       "648434   s_150684  2022-01-16 2022-01-16   55  54 à 95 ans  \n",
       "648435   s_119415  2021-11-14 2021-11-14   55  54 à 95 ans  \n",
       "648436   s_193823  2022-04-14 2022-04-14   55  54 à 95 ans  \n",
       "\n",
       "[46800 rows x 12 columns]"
      ]
     },
     "execution_count": 184,
     "metadata": {},
     "output_type": "execute_result"
    }
   ],
   "source": [
    "#Supprimer les clients BTOB car personne morale on ne peut pas mettre de genre dessus (peut biaisier les analyses)\n",
    "# Les 4 clients btb\n",
    "cli_btb = datamerge2[(datamerge2.client_id== 'c_1609')|(datamerge2.client_id=='c_4958')|(datamerge2.client_id=='c_6714')|(datamerge2.client_id=='c_3454')]\n",
    "cli_btb\n"
   ]
  },
  {
   "cell_type": "code",
   "execution_count": 185,
   "id": "2509fadc",
   "metadata": {},
   "outputs": [
    {
     "data": {
      "text/html": [
       "<div>\n",
       "<style scoped>\n",
       "    .dataframe tbody tr th:only-of-type {\n",
       "        vertical-align: middle;\n",
       "    }\n",
       "\n",
       "    .dataframe tbody tr th {\n",
       "        vertical-align: top;\n",
       "    }\n",
       "\n",
       "    .dataframe thead th {\n",
       "        text-align: right;\n",
       "    }\n",
       "</style>\n",
       "<table border=\"1\" class=\"dataframe\">\n",
       "  <thead>\n",
       "    <tr style=\"text-align: right;\">\n",
       "      <th></th>\n",
       "      <th>client_id</th>\n",
       "      <th>sex</th>\n",
       "      <th>birth</th>\n",
       "      <th>id_prod</th>\n",
       "      <th>price</th>\n",
       "      <th>categ</th>\n",
       "      <th>date</th>\n",
       "      <th>session_id</th>\n",
       "      <th>date_str</th>\n",
       "      <th>date_fmt</th>\n",
       "      <th>age</th>\n",
       "      <th>tranche_age</th>\n",
       "    </tr>\n",
       "  </thead>\n",
       "  <tbody>\n",
       "    <tr>\n",
       "      <th>0</th>\n",
       "      <td>c_4410</td>\n",
       "      <td>f</td>\n",
       "      <td>1967</td>\n",
       "      <td>1_385</td>\n",
       "      <td>25.99</td>\n",
       "      <td>1.0</td>\n",
       "      <td>2021-03-22 01:40:22.782925</td>\n",
       "      <td>s_9707</td>\n",
       "      <td>2021-03-22</td>\n",
       "      <td>2021-03-22</td>\n",
       "      <td>57</td>\n",
       "      <td>54 à 95 ans</td>\n",
       "    </tr>\n",
       "    <tr>\n",
       "      <th>1</th>\n",
       "      <td>c_4410</td>\n",
       "      <td>f</td>\n",
       "      <td>1967</td>\n",
       "      <td>1_385</td>\n",
       "      <td>25.99</td>\n",
       "      <td>1.0</td>\n",
       "      <td>2023-02-22 01:40:22.782925</td>\n",
       "      <td>s_345108</td>\n",
       "      <td>2023-02-22</td>\n",
       "      <td>2023-02-22</td>\n",
       "      <td>57</td>\n",
       "      <td>54 à 95 ans</td>\n",
       "    </tr>\n",
       "    <tr>\n",
       "      <th>2</th>\n",
       "      <td>c_4410</td>\n",
       "      <td>f</td>\n",
       "      <td>1967</td>\n",
       "      <td>0_1110</td>\n",
       "      <td>4.71</td>\n",
       "      <td>0.0</td>\n",
       "      <td>2021-11-04 16:28:30.169021</td>\n",
       "      <td>s_114715</td>\n",
       "      <td>2021-11-04</td>\n",
       "      <td>2021-11-04</td>\n",
       "      <td>57</td>\n",
       "      <td>54 à 95 ans</td>\n",
       "    </tr>\n",
       "    <tr>\n",
       "      <th>3</th>\n",
       "      <td>c_4410</td>\n",
       "      <td>f</td>\n",
       "      <td>1967</td>\n",
       "      <td>0_1111</td>\n",
       "      <td>19.99</td>\n",
       "      <td>0.0</td>\n",
       "      <td>2021-03-22 01:27:49.480137</td>\n",
       "      <td>s_9707</td>\n",
       "      <td>2021-03-22</td>\n",
       "      <td>2021-03-22</td>\n",
       "      <td>57</td>\n",
       "      <td>54 à 95 ans</td>\n",
       "    </tr>\n",
       "    <tr>\n",
       "      <th>4</th>\n",
       "      <td>c_4410</td>\n",
       "      <td>f</td>\n",
       "      <td>1967</td>\n",
       "      <td>0_1111</td>\n",
       "      <td>19.99</td>\n",
       "      <td>0.0</td>\n",
       "      <td>2023-02-22 01:27:49.480137</td>\n",
       "      <td>s_345108</td>\n",
       "      <td>2023-02-22</td>\n",
       "      <td>2023-02-22</td>\n",
       "      <td>57</td>\n",
       "      <td>54 à 95 ans</td>\n",
       "    </tr>\n",
       "    <tr>\n",
       "      <th>...</th>\n",
       "      <td>...</td>\n",
       "      <td>...</td>\n",
       "      <td>...</td>\n",
       "      <td>...</td>\n",
       "      <td>...</td>\n",
       "      <td>...</td>\n",
       "      <td>...</td>\n",
       "      <td>...</td>\n",
       "      <td>...</td>\n",
       "      <td>...</td>\n",
       "      <td>...</td>\n",
       "      <td>...</td>\n",
       "    </tr>\n",
       "    <tr>\n",
       "      <th>640729</th>\n",
       "      <td>c_84</td>\n",
       "      <td>f</td>\n",
       "      <td>1982</td>\n",
       "      <td>0_1438</td>\n",
       "      <td>9.31</td>\n",
       "      <td>0.0</td>\n",
       "      <td>2022-03-29 06:11:50.316631</td>\n",
       "      <td>s_186172</td>\n",
       "      <td>2022-03-29</td>\n",
       "      <td>2022-03-29</td>\n",
       "      <td>42</td>\n",
       "      <td>37 à 44 ans</td>\n",
       "    </tr>\n",
       "    <tr>\n",
       "      <th>640730</th>\n",
       "      <td>c_84</td>\n",
       "      <td>f</td>\n",
       "      <td>1982</td>\n",
       "      <td>0_1438</td>\n",
       "      <td>9.31</td>\n",
       "      <td>0.0</td>\n",
       "      <td>2022-05-29 06:11:50.316631</td>\n",
       "      <td>s_215697</td>\n",
       "      <td>2022-05-29</td>\n",
       "      <td>2022-05-29</td>\n",
       "      <td>42</td>\n",
       "      <td>37 à 44 ans</td>\n",
       "    </tr>\n",
       "    <tr>\n",
       "      <th>640731</th>\n",
       "      <td>c_84</td>\n",
       "      <td>f</td>\n",
       "      <td>1982</td>\n",
       "      <td>1_459</td>\n",
       "      <td>15.99</td>\n",
       "      <td>1.0</td>\n",
       "      <td>2022-02-17 00:16:56.629536</td>\n",
       "      <td>s_166337</td>\n",
       "      <td>2022-02-17</td>\n",
       "      <td>2022-02-17</td>\n",
       "      <td>42</td>\n",
       "      <td>37 à 44 ans</td>\n",
       "    </tr>\n",
       "    <tr>\n",
       "      <th>640732</th>\n",
       "      <td>c_84</td>\n",
       "      <td>f</td>\n",
       "      <td>1982</td>\n",
       "      <td>1_459</td>\n",
       "      <td>15.99</td>\n",
       "      <td>1.0</td>\n",
       "      <td>2022-12-17 00:16:56.629536</td>\n",
       "      <td>s_313173</td>\n",
       "      <td>2022-12-17</td>\n",
       "      <td>2022-12-17</td>\n",
       "      <td>42</td>\n",
       "      <td>37 à 44 ans</td>\n",
       "    </tr>\n",
       "    <tr>\n",
       "      <th>640733</th>\n",
       "      <td>c_84</td>\n",
       "      <td>f</td>\n",
       "      <td>1982</td>\n",
       "      <td>1_110</td>\n",
       "      <td>54.90</td>\n",
       "      <td>1.0</td>\n",
       "      <td>2021-09-13 21:39:46.845376</td>\n",
       "      <td>s_89478</td>\n",
       "      <td>2021-09-13</td>\n",
       "      <td>2021-09-13</td>\n",
       "      <td>42</td>\n",
       "      <td>37 à 44 ans</td>\n",
       "    </tr>\n",
       "  </tbody>\n",
       "</table>\n",
       "<p>640734 rows × 12 columns</p>\n",
       "</div>"
      ],
      "text/plain": [
       "       client_id sex  birth id_prod  price categ                        date  \\\n",
       "0         c_4410   f   1967   1_385  25.99   1.0  2021-03-22 01:40:22.782925   \n",
       "1         c_4410   f   1967   1_385  25.99   1.0  2023-02-22 01:40:22.782925   \n",
       "2         c_4410   f   1967  0_1110   4.71   0.0  2021-11-04 16:28:30.169021   \n",
       "3         c_4410   f   1967  0_1111  19.99   0.0  2021-03-22 01:27:49.480137   \n",
       "4         c_4410   f   1967  0_1111  19.99   0.0  2023-02-22 01:27:49.480137   \n",
       "...          ...  ..    ...     ...    ...   ...                         ...   \n",
       "640729      c_84   f   1982  0_1438   9.31   0.0  2022-03-29 06:11:50.316631   \n",
       "640730      c_84   f   1982  0_1438   9.31   0.0  2022-05-29 06:11:50.316631   \n",
       "640731      c_84   f   1982   1_459  15.99   1.0  2022-02-17 00:16:56.629536   \n",
       "640732      c_84   f   1982   1_459  15.99   1.0  2022-12-17 00:16:56.629536   \n",
       "640733      c_84   f   1982   1_110  54.90   1.0  2021-09-13 21:39:46.845376   \n",
       "\n",
       "       session_id    date_str   date_fmt  age  tranche_age  \n",
       "0          s_9707  2021-03-22 2021-03-22   57  54 à 95 ans  \n",
       "1        s_345108  2023-02-22 2023-02-22   57  54 à 95 ans  \n",
       "2        s_114715  2021-11-04 2021-11-04   57  54 à 95 ans  \n",
       "3          s_9707  2021-03-22 2021-03-22   57  54 à 95 ans  \n",
       "4        s_345108  2023-02-22 2023-02-22   57  54 à 95 ans  \n",
       "...           ...         ...        ...  ...          ...  \n",
       "640729   s_186172  2022-03-29 2022-03-29   42  37 à 44 ans  \n",
       "640730   s_215697  2022-05-29 2022-05-29   42  37 à 44 ans  \n",
       "640731   s_166337  2022-02-17 2022-02-17   42  37 à 44 ans  \n",
       "640732   s_313173  2022-12-17 2022-12-17   42  37 à 44 ans  \n",
       "640733    s_89478  2021-09-13 2021-09-13   42  37 à 44 ans  \n",
       "\n",
       "[640734 rows x 12 columns]"
      ]
     },
     "execution_count": 185,
     "metadata": {},
     "output_type": "execute_result"
    }
   ],
   "source": [
    "#Dataframe sans les 4 gros clients btob\n",
    "dtf_final = datamerge2.drop(cli_btb.index).reset_index(drop=True)\n",
    "dtf_final"
   ]
  },
  {
   "cell_type": "markdown",
   "id": "1fedf4e0",
   "metadata": {},
   "source": [
    "## Demandes de Julie\n"
   ]
  },
  {
   "cell_type": "markdown",
   "id": "f82bef25",
   "metadata": {},
   "source": [
    "### Corrélation entre le genre d'un client et les catégories de livres achetés"
   ]
  },
  {
   "cell_type": "code",
   "execution_count": 186,
   "id": "4952e49e",
   "metadata": {},
   "outputs": [
    {
     "data": {
      "text/html": [
       "<div>\n",
       "<style scoped>\n",
       "    .dataframe tbody tr th:only-of-type {\n",
       "        vertical-align: middle;\n",
       "    }\n",
       "\n",
       "    .dataframe tbody tr th {\n",
       "        vertical-align: top;\n",
       "    }\n",
       "\n",
       "    .dataframe thead th {\n",
       "        text-align: right;\n",
       "    }\n",
       "</style>\n",
       "<table border=\"1\" class=\"dataframe\">\n",
       "  <thead>\n",
       "    <tr style=\"text-align: right;\">\n",
       "      <th>categ</th>\n",
       "      <th>0.0</th>\n",
       "      <th>1.0</th>\n",
       "      <th>2.0</th>\n",
       "    </tr>\n",
       "    <tr>\n",
       "      <th>sex</th>\n",
       "      <th></th>\n",
       "      <th></th>\n",
       "      <th></th>\n",
       "    </tr>\n",
       "  </thead>\n",
       "  <tbody>\n",
       "    <tr>\n",
       "      <th>f</th>\n",
       "      <td>200793</td>\n",
       "      <td>115721</td>\n",
       "      <td>16980</td>\n",
       "    </tr>\n",
       "    <tr>\n",
       "      <th>m</th>\n",
       "      <td>186488</td>\n",
       "      <td>104884</td>\n",
       "      <td>15868</td>\n",
       "    </tr>\n",
       "  </tbody>\n",
       "</table>\n",
       "</div>"
      ],
      "text/plain": [
       "categ     0.0     1.0    2.0\n",
       "sex                         \n",
       "f      200793  115721  16980\n",
       "m      186488  104884  15868"
      ]
     },
     "execution_count": 186,
     "metadata": {},
     "output_type": "execute_result"
    }
   ],
   "source": [
    "#CA par genre et categorie (transactions) \n",
    "genre_categca = dtf_final.pivot_table(index='sex', columns='categ', values='price', aggfunc='count')\n",
    "genre_categca"
   ]
  },
  {
   "cell_type": "markdown",
   "id": "8c1de35d",
   "metadata": {},
   "source": [
    "Observations : la catégorie 0 est la plus vendue pour les deux sexes suivie de la categorie 2 et enfin de la catégorie 1. "
   ]
  },
  {
   "cell_type": "code",
   "execution_count": 187,
   "id": "8ed3f610",
   "metadata": {},
   "outputs": [],
   "source": [
    "(chi2, p, dof, excptd) = chi2_contingency(genre_categca)"
   ]
  },
  {
   "cell_type": "code",
   "execution_count": 188,
   "id": "9dc0b5e4",
   "metadata": {},
   "outputs": [
    {
     "name": "stdout",
     "output_type": "stream",
     "text": [
      "la valeur de la p-value est : 1.1955928116587024e-05\n"
     ]
    }
   ],
   "source": [
    "print(f\"la valeur de la p-value est : {p}\")"
   ]
  },
  {
   "cell_type": "markdown",
   "id": "da7b5492",
   "metadata": {},
   "source": [
    "H0 = il n'y a pas de lien entre la catégorie de livre et le genre du client "
   ]
  },
  {
   "cell_type": "markdown",
   "id": "5648f86a",
   "metadata": {},
   "source": [
    "H1(hypothèse alternative)= il y a une corréalation entre la catégorie de livre et le genre du client "
   ]
  },
  {
   "cell_type": "markdown",
   "id": "6f20f0f9",
   "metadata": {},
   "source": [
    "p-value est inférieur à 0,05.\n",
    "\n",
    "L'hypothèse nulle est rejetée, il y'a une corrélation entre le genre et la categorie des achats. \n"
   ]
  },
  {
   "cell_type": "code",
   "execution_count": 189,
   "id": "21d042cb",
   "metadata": {},
   "outputs": [],
   "source": [
    "#Indentification de l'intensité de la corrélation entre les deux variables à travers la valeur du v de cramer \n",
    "V = np.sqrt(chi2/n*dof)"
   ]
  },
  {
   "cell_type": "code",
   "execution_count": 190,
   "id": "c43acb31",
   "metadata": {},
   "outputs": [
    {
     "name": "stdout",
     "output_type": "stream",
     "text": [
      "la valeur de la V de Cramer est : 0.07260266360415747\n"
     ]
    }
   ],
   "source": [
    "print(f\"la valeur de la V de Cramer est : {V}\")"
   ]
  },
  {
   "cell_type": "markdown",
   "id": "bbbd92da",
   "metadata": {},
   "source": [
    " Rappel sur l'interprétation du coefficient de Cramer\n",
    " \n",
    " < 0,10 = La relation est nulle ou faible.\n",
    "\n",
    ". > = 0,10 et < 0,20 = La relation est faible.\n",
    "\n",
    ". > = 0,20 et < 0,30 = La relation est moyennne.\n",
    "\n",
    ". > = 0,30 = La relation est forte."
   ]
  },
  {
   "cell_type": "markdown",
   "id": "8a6f1756",
   "metadata": {},
   "source": [
    "La corrélation entre les deux variables catégorie et genre est faible "
   ]
  },
  {
   "cell_type": "markdown",
   "id": "4c68fcfe",
   "metadata": {},
   "source": [
    "### Corrélation entre l'âge des clients et le montant total des achats"
   ]
  },
  {
   "cell_type": "code",
   "execution_count": 191,
   "id": "2739f13c",
   "metadata": {},
   "outputs": [
    {
     "data": {
      "text/plain": [
       "Text(0.5, 1.0, 'Montant des achats par âges')"
      ]
     },
     "execution_count": 191,
     "metadata": {},
     "output_type": "execute_result"
    },
    {
     "data": {
      "image/png": "[encoded data removed]",
      "text/plain": [
       "<Figure size 640x480 with 1 Axes>"
      ]
     },
     "metadata": {},
     "output_type": "display_data"
    }
   ],
   "source": [
    "#Montant des achats par âge\n",
    "achats_age = dtf_final.groupby(['age'])['price'].sum()\n",
    "\n",
    "sns.scatterplot(data= achats_age)\n",
    "plt.ylabel('Montant €')\n",
    "plt.xlabel('Age des clients')\n",
    "plt.title('Montant des achats par âges')"
   ]
  },
  {
   "cell_type": "code",
   "execution_count": 194,
   "id": "1d5c2e6e",
   "metadata": {},
   "outputs": [],
   "source": [
    "achats_age2 = achats_age.reset_index()"
   ]
  },
  {
   "cell_type": "code",
   "execution_count": 195,
   "id": "0ed5716b",
   "metadata": {},
   "outputs": [
    {
     "data": {
      "text/html": [
       "<div>\n",
       "<style scoped>\n",
       "    .dataframe tbody tr th:only-of-type {\n",
       "        vertical-align: middle;\n",
       "    }\n",
       "\n",
       "    .dataframe tbody tr th {\n",
       "        vertical-align: top;\n",
       "    }\n",
       "\n",
       "    .dataframe thead th {\n",
       "        text-align: right;\n",
       "    }\n",
       "</style>\n",
       "<table border=\"1\" class=\"dataframe\">\n",
       "  <thead>\n",
       "    <tr style=\"text-align: right;\">\n",
       "      <th></th>\n",
       "      <th>age</th>\n",
       "      <th>price</th>\n",
       "    </tr>\n",
       "  </thead>\n",
       "  <tbody>\n",
       "    <tr>\n",
       "      <th>0</th>\n",
       "      <td>20</td>\n",
       "      <td>616418.15</td>\n",
       "    </tr>\n",
       "    <tr>\n",
       "      <th>1</th>\n",
       "      <td>21</td>\n",
       "      <td>180680.89</td>\n",
       "    </tr>\n",
       "    <tr>\n",
       "      <th>2</th>\n",
       "      <td>22</td>\n",
       "      <td>186791.83</td>\n",
       "    </tr>\n",
       "    <tr>\n",
       "      <th>3</th>\n",
       "      <td>23</td>\n",
       "      <td>181233.57</td>\n",
       "    </tr>\n",
       "    <tr>\n",
       "      <th>4</th>\n",
       "      <td>24</td>\n",
       "      <td>167388.08</td>\n",
       "    </tr>\n",
       "    <tr>\n",
       "      <th>...</th>\n",
       "      <td>...</td>\n",
       "      <td>...</td>\n",
       "    </tr>\n",
       "    <tr>\n",
       "      <th>71</th>\n",
       "      <td>91</td>\n",
       "      <td>5477.83</td>\n",
       "    </tr>\n",
       "    <tr>\n",
       "      <th>72</th>\n",
       "      <td>92</td>\n",
       "      <td>5059.18</td>\n",
       "    </tr>\n",
       "    <tr>\n",
       "      <th>73</th>\n",
       "      <td>93</td>\n",
       "      <td>2815.45</td>\n",
       "    </tr>\n",
       "    <tr>\n",
       "      <th>74</th>\n",
       "      <td>94</td>\n",
       "      <td>4251.22</td>\n",
       "    </tr>\n",
       "    <tr>\n",
       "      <th>75</th>\n",
       "      <td>95</td>\n",
       "      <td>3249.84</td>\n",
       "    </tr>\n",
       "  </tbody>\n",
       "</table>\n",
       "<p>76 rows × 2 columns</p>\n",
       "</div>"
      ],
      "text/plain": [
       "    age      price\n",
       "0    20  616418.15\n",
       "1    21  180680.89\n",
       "2    22  186791.83\n",
       "3    23  181233.57\n",
       "4    24  167388.08\n",
       "..  ...        ...\n",
       "71   91    5477.83\n",
       "72   92    5059.18\n",
       "73   93    2815.45\n",
       "74   94    4251.22\n",
       "75   95    3249.84\n",
       "\n",
       "[76 rows x 2 columns]"
      ]
     },
     "execution_count": 195,
     "metadata": {},
     "output_type": "execute_result"
    }
   ],
   "source": [
    "achats_age2"
   ]
  },
  {
   "cell_type": "code",
   "execution_count": 196,
   "id": "3a0fd174",
   "metadata": {},
   "outputs": [
    {
     "name": "stdout",
     "output_type": "stream",
     "text": [
      "Statistique de test : 1.0\n",
      "p-value : 0.0\n"
     ]
    }
   ],
   "source": [
    "#Test de la normalité de la variable âge Kolmogorov et Smirnoff\n",
    "stat, p_value = sp.stats.kstest(achats_age2['age'],'norm')\n",
    "print(\"Statistique de test :\", stat)\n",
    "print(\"p-value :\", p_value)"
   ]
  },
  {
   "cell_type": "code",
   "execution_count": 197,
   "id": "09c6da1b",
   "metadata": {},
   "outputs": [
    {
     "name": "stdout",
     "output_type": "stream",
     "text": [
      "Statistique de test : 1.0\n",
      "p-value : 0.0\n"
     ]
    }
   ],
   "source": [
    "#Test de la normalité de la variable price Kolmogorov et Smirnoff\n",
    "stat, p_value = sp.stats.kstest(achats_age2['price'],'norm')\n",
    "print(\"Statistique de test :\", stat)\n",
    "print(\"p-value :\", p_value)"
   ]
  },
  {
   "cell_type": "markdown",
   "id": "38089d39",
   "metadata": {},
   "source": [
    "Les variables price et âge ne suivent de pas de loi normale car la p.value est inférieur à 0.05"
   ]
  },
  {
   "cell_type": "code",
   "execution_count": 199,
   "id": "cc3d4d58",
   "metadata": {},
   "outputs": [],
   "source": [
    "#Test de Spearman\n",
    "corr, p_value = sp.stats.spearmanr(achats_age2['age'],achats_age2['price'])"
   ]
  },
  {
   "cell_type": "code",
   "execution_count": 200,
   "id": "17677caa",
   "metadata": {},
   "outputs": [
    {
     "data": {
      "text/plain": [
       "-0.8744497607655503"
      ]
     },
     "execution_count": 200,
     "metadata": {},
     "output_type": "execute_result"
    }
   ],
   "source": [
    "corr"
   ]
  },
  {
   "cell_type": "markdown",
   "id": "60b0e0f6",
   "metadata": {},
   "source": [
    "observations : Corrélation négative qui se rapproche de 1. Comportement de groupe entre les personne du même âge. Plus l'âge avance plus les clients font moins de chiffre d'affaire. "
   ]
  },
  {
   "cell_type": "markdown",
   "id": "bc156c79",
   "metadata": {},
   "source": [
    "### Corrélation entre l'âge des clients et la fréquence d'achat"
   ]
  },
  {
   "cell_type": "code",
   "execution_count": 201,
   "id": "9a3863c8",
   "metadata": {},
   "outputs": [
    {
     "data": {
      "text/plain": [
       "Text(0.5, 1.0, 'Fréquence d’achat par âges')"
      ]
     },
     "execution_count": 201,
     "metadata": {},
     "output_type": "execute_result"
    },
    {
     "data": {
      "image/png": "[encoded data removed]",
      "text/plain": [
       "<Figure size 640x480 with 1 Axes>"
      ]
     },
     "metadata": {},
     "output_type": "display_data"
    }
   ],
   "source": [
    "#Fréquence des achats par âge\n",
    "nb_achats = dtf_final.groupby(['age'])['session_id'].count()\n",
    "sns.scatterplot(data= nb_achats)\n",
    "plt.ylabel('Fréquence ')\n",
    "plt.xlabel('Age des clients')\n",
    "plt.title('Fréquence d’achat par âges')"
   ]
  },
  {
   "cell_type": "code",
   "execution_count": 202,
   "id": "009cab74",
   "metadata": {},
   "outputs": [],
   "source": [
    "nb_achats = nb_achats.reset_index()"
   ]
  },
  {
   "cell_type": "code",
   "execution_count": 203,
   "id": "2c8164c2",
   "metadata": {},
   "outputs": [],
   "source": [
    "nb_achats = nb_achats.rename(columns= {'session_id':'frequence_achat'})"
   ]
  },
  {
   "cell_type": "code",
   "execution_count": 204,
   "id": "4e905422",
   "metadata": {},
   "outputs": [
    {
     "name": "stdout",
     "output_type": "stream",
     "text": [
      "Statistique de test : 1.0\n",
      "p-value : 0.0\n"
     ]
    }
   ],
   "source": [
    "#Test de normalité de la fréquence d'achat\n",
    "stat, p_value = sp.stats.kstest(nb_achats['frequence_achat'],'norm')\n",
    "print(\"Statistique de test :\", stat)\n",
    "print(\"p-value :\", p_value)"
   ]
  },
  {
   "cell_type": "code",
   "execution_count": 205,
   "id": "103cfc52",
   "metadata": {},
   "outputs": [],
   "source": [
    "#Test de spearman\n",
    "corr_age_freq, p_value = sp.stats.spearmanr(nb_achats['age'], nb_achats['frequence_achat'])"
   ]
  },
  {
   "cell_type": "code",
   "execution_count": 206,
   "id": "3a159e54",
   "metadata": {},
   "outputs": [
    {
     "data": {
      "text/plain": [
       "-0.6756527682843472"
      ]
     },
     "execution_count": 206,
     "metadata": {},
     "output_type": "execute_result"
    }
   ],
   "source": [
    "corr_age_freq"
   ]
  },
  {
   "cell_type": "markdown",
   "id": "def20c0f",
   "metadata": {},
   "source": [
    "Observations : Plus les clients sont âgés moins ils font d'achat. Corrélation négative. "
   ]
  },
  {
   "cell_type": "markdown",
   "id": "0909fec9",
   "metadata": {},
   "source": [
    "### Corrélation entre l'âge des clients et la taille du panier moyen"
   ]
  },
  {
   "cell_type": "code",
   "execution_count": 235,
   "id": "35226f27",
   "metadata": {},
   "outputs": [
    {
     "data": {
      "text/html": [
       "<div>\n",
       "<style scoped>\n",
       "    .dataframe tbody tr th:only-of-type {\n",
       "        vertical-align: middle;\n",
       "    }\n",
       "\n",
       "    .dataframe tbody tr th {\n",
       "        vertical-align: top;\n",
       "    }\n",
       "\n",
       "    .dataframe thead th {\n",
       "        text-align: right;\n",
       "    }\n",
       "</style>\n",
       "<table border=\"1\" class=\"dataframe\">\n",
       "  <thead>\n",
       "    <tr style=\"text-align: right;\">\n",
       "      <th></th>\n",
       "      <th>age</th>\n",
       "      <th>panier_moyen</th>\n",
       "    </tr>\n",
       "  </thead>\n",
       "  <tbody>\n",
       "    <tr>\n",
       "      <th>0</th>\n",
       "      <td>20</td>\n",
       "      <td>70.399515</td>\n",
       "    </tr>\n",
       "    <tr>\n",
       "      <th>1</th>\n",
       "      <td>21</td>\n",
       "      <td>69.094031</td>\n",
       "    </tr>\n",
       "    <tr>\n",
       "      <th>2</th>\n",
       "      <td>22</td>\n",
       "      <td>70.064452</td>\n",
       "    </tr>\n",
       "    <tr>\n",
       "      <th>3</th>\n",
       "      <td>23</td>\n",
       "      <td>72.843075</td>\n",
       "    </tr>\n",
       "    <tr>\n",
       "      <th>4</th>\n",
       "      <td>24</td>\n",
       "      <td>67.604233</td>\n",
       "    </tr>\n",
       "    <tr>\n",
       "      <th>...</th>\n",
       "      <td>...</td>\n",
       "      <td>...</td>\n",
       "    </tr>\n",
       "    <tr>\n",
       "      <th>71</th>\n",
       "      <td>91</td>\n",
       "      <td>23.113207</td>\n",
       "    </tr>\n",
       "    <tr>\n",
       "      <th>72</th>\n",
       "      <td>92</td>\n",
       "      <td>24.440483</td>\n",
       "    </tr>\n",
       "    <tr>\n",
       "      <th>73</th>\n",
       "      <td>93</td>\n",
       "      <td>29.327604</td>\n",
       "    </tr>\n",
       "    <tr>\n",
       "      <th>74</th>\n",
       "      <td>94</td>\n",
       "      <td>28.153775</td>\n",
       "    </tr>\n",
       "    <tr>\n",
       "      <th>75</th>\n",
       "      <td>95</td>\n",
       "      <td>24.072889</td>\n",
       "    </tr>\n",
       "  </tbody>\n",
       "</table>\n",
       "<p>76 rows × 2 columns</p>\n",
       "</div>"
      ],
      "text/plain": [
       "    age  panier_moyen\n",
       "0    20     70.399515\n",
       "1    21     69.094031\n",
       "2    22     70.064452\n",
       "3    23     72.843075\n",
       "4    24     67.604233\n",
       "..  ...           ...\n",
       "71   91     23.113207\n",
       "72   92     24.440483\n",
       "73   93     29.327604\n",
       "74   94     28.153775\n",
       "75   95     24.072889\n",
       "\n",
       "[76 rows x 2 columns]"
      ]
     },
     "execution_count": 235,
     "metadata": {},
     "output_type": "execute_result"
    }
   ],
   "source": [
    "#Taille du panier moyen et les catégories des livres achetés\n",
    "\n",
    "taille_panier = datamerge2.groupby(['age','session_id'])[\"price\"].sum().reset_index()\n",
    "taille_panier = taille_panier.rename(columns={'price':'panier_moyen'})\n",
    "\n",
    "panier_moyen = taille_panier.groupby(['age'])[\"panier_moyen\"].mean().reset_index()\n",
    "panier_moyen"
   ]
  },
  {
   "cell_type": "code",
   "execution_count": 225,
   "id": "47bcf57e",
   "metadata": {},
   "outputs": [
    {
     "name": "stdout",
     "output_type": "stream",
     "text": [
      "Statistique de test : 1.0\n",
      "p-value : 0.0\n"
     ]
    }
   ],
   "source": [
    "stat, p_value = sp.stats.kstest(panier_moyen['panier_moyen'],'norm')\n",
    "print(\"Statistique de test :\", stat)\n",
    "print(\"p-value :\", p_value)"
   ]
  },
  {
   "cell_type": "code",
   "execution_count": 226,
   "id": "f4b04349",
   "metadata": {},
   "outputs": [
    {
     "name": "stdout",
     "output_type": "stream",
     "text": [
      "Statistique de test : 1.0\n",
      "p-value : 0.0\n"
     ]
    }
   ],
   "source": [
    "stat, p_value = sp.stats.kstest(panier_moyen['age'],'norm')\n",
    "print(\"Statistique de test :\", stat)\n",
    "print(\"p-value :\", p_value)"
   ]
  },
  {
   "cell_type": "code",
   "execution_count": 237,
   "id": "0a628dd2",
   "metadata": {},
   "outputs": [],
   "source": [
    "#Test de spearman\n",
    "corr_panier_moyen, p_value = sp.stats.spearmanr(panier_moyen['age'], panier_moyen['panier_moyen'])"
   ]
  },
  {
   "cell_type": "code",
   "execution_count": 238,
   "id": "892a64ca",
   "metadata": {},
   "outputs": [
    {
     "data": {
      "text/plain": [
       "-0.7746001367053998"
      ]
     },
     "execution_count": 238,
     "metadata": {},
     "output_type": "execute_result"
    }
   ],
   "source": [
    "corr_panier_moyen"
   ]
  },
  {
   "cell_type": "markdown",
   "id": "f80932dc",
   "metadata": {},
   "source": [
    "### Corrélation entre l'âge du clients et la catégorie des livres achetés"
   ]
  },
  {
   "cell_type": "code",
   "execution_count": 209,
   "id": "8f40afc5",
   "metadata": {},
   "outputs": [
    {
     "data": {
      "text/html": [
       "<div>\n",
       "<style scoped>\n",
       "    .dataframe tbody tr th:only-of-type {\n",
       "        vertical-align: middle;\n",
       "    }\n",
       "\n",
       "    .dataframe tbody tr th {\n",
       "        vertical-align: top;\n",
       "    }\n",
       "\n",
       "    .dataframe thead th {\n",
       "        text-align: right;\n",
       "    }\n",
       "</style>\n",
       "<table border=\"1\" class=\"dataframe\">\n",
       "  <thead>\n",
       "    <tr style=\"text-align: right;\">\n",
       "      <th></th>\n",
       "      <th>categ</th>\n",
       "      <th>age</th>\n",
       "    </tr>\n",
       "  </thead>\n",
       "  <tbody>\n",
       "    <tr>\n",
       "      <th>0</th>\n",
       "      <td>0.0</td>\n",
       "      <td>45.897446</td>\n",
       "    </tr>\n",
       "    <tr>\n",
       "      <th>1</th>\n",
       "      <td>1.0</td>\n",
       "      <td>49.509232</td>\n",
       "    </tr>\n",
       "    <tr>\n",
       "      <th>2</th>\n",
       "      <td>2.0</td>\n",
       "      <td>27.948031</td>\n",
       "    </tr>\n",
       "  </tbody>\n",
       "</table>\n",
       "</div>"
      ],
      "text/plain": [
       "  categ        age\n",
       "0   0.0  45.897446\n",
       "1   1.0  49.509232\n",
       "2   2.0  27.948031"
      ]
     },
     "execution_count": 209,
     "metadata": {},
     "output_type": "execute_result"
    }
   ],
   "source": [
    "#Age et categorie\n",
    "age_categ = datamerge2.groupby(['categ'])['age'].mean().reset_index()\n",
    "age_categ"
   ]
  },
  {
   "cell_type": "code",
   "execution_count": 210,
   "id": "b3d5c1f5",
   "metadata": {},
   "outputs": [
    {
     "data": {
      "text/html": [
       "<div>\n",
       "<style scoped>\n",
       "    .dataframe tbody tr th:only-of-type {\n",
       "        vertical-align: middle;\n",
       "    }\n",
       "\n",
       "    .dataframe tbody tr th {\n",
       "        vertical-align: top;\n",
       "    }\n",
       "\n",
       "    .dataframe thead th {\n",
       "        text-align: right;\n",
       "    }\n",
       "</style>\n",
       "<table border=\"1\" class=\"dataframe\">\n",
       "  <thead>\n",
       "    <tr style=\"text-align: right;\">\n",
       "      <th></th>\n",
       "      <th>client_id</th>\n",
       "      <th>sex</th>\n",
       "      <th>birth</th>\n",
       "      <th>id_prod</th>\n",
       "      <th>price</th>\n",
       "      <th>categ</th>\n",
       "      <th>date</th>\n",
       "      <th>session_id</th>\n",
       "      <th>date_str</th>\n",
       "      <th>date_fmt</th>\n",
       "      <th>age</th>\n",
       "      <th>tranche_age</th>\n",
       "    </tr>\n",
       "  </thead>\n",
       "  <tbody>\n",
       "    <tr>\n",
       "      <th>0</th>\n",
       "      <td>c_4410</td>\n",
       "      <td>f</td>\n",
       "      <td>1967</td>\n",
       "      <td>1_385</td>\n",
       "      <td>25.99</td>\n",
       "      <td>1.0</td>\n",
       "      <td>2021-03-22 01:40:22.782925</td>\n",
       "      <td>s_9707</td>\n",
       "      <td>2021-03-22</td>\n",
       "      <td>2021-03-22</td>\n",
       "      <td>57</td>\n",
       "      <td>54 à 95 ans</td>\n",
       "    </tr>\n",
       "    <tr>\n",
       "      <th>1</th>\n",
       "      <td>c_4410</td>\n",
       "      <td>f</td>\n",
       "      <td>1967</td>\n",
       "      <td>1_385</td>\n",
       "      <td>25.99</td>\n",
       "      <td>1.0</td>\n",
       "      <td>2023-02-22 01:40:22.782925</td>\n",
       "      <td>s_345108</td>\n",
       "      <td>2023-02-22</td>\n",
       "      <td>2023-02-22</td>\n",
       "      <td>57</td>\n",
       "      <td>54 à 95 ans</td>\n",
       "    </tr>\n",
       "    <tr>\n",
       "      <th>2</th>\n",
       "      <td>c_4410</td>\n",
       "      <td>f</td>\n",
       "      <td>1967</td>\n",
       "      <td>0_1110</td>\n",
       "      <td>4.71</td>\n",
       "      <td>0.0</td>\n",
       "      <td>2021-11-04 16:28:30.169021</td>\n",
       "      <td>s_114715</td>\n",
       "      <td>2021-11-04</td>\n",
       "      <td>2021-11-04</td>\n",
       "      <td>57</td>\n",
       "      <td>54 à 95 ans</td>\n",
       "    </tr>\n",
       "    <tr>\n",
       "      <th>3</th>\n",
       "      <td>c_4410</td>\n",
       "      <td>f</td>\n",
       "      <td>1967</td>\n",
       "      <td>0_1111</td>\n",
       "      <td>19.99</td>\n",
       "      <td>0.0</td>\n",
       "      <td>2021-03-22 01:27:49.480137</td>\n",
       "      <td>s_9707</td>\n",
       "      <td>2021-03-22</td>\n",
       "      <td>2021-03-22</td>\n",
       "      <td>57</td>\n",
       "      <td>54 à 95 ans</td>\n",
       "    </tr>\n",
       "    <tr>\n",
       "      <th>4</th>\n",
       "      <td>c_4410</td>\n",
       "      <td>f</td>\n",
       "      <td>1967</td>\n",
       "      <td>0_1111</td>\n",
       "      <td>19.99</td>\n",
       "      <td>0.0</td>\n",
       "      <td>2023-02-22 01:27:49.480137</td>\n",
       "      <td>s_345108</td>\n",
       "      <td>2023-02-22</td>\n",
       "      <td>2023-02-22</td>\n",
       "      <td>57</td>\n",
       "      <td>54 à 95 ans</td>\n",
       "    </tr>\n",
       "  </tbody>\n",
       "</table>\n",
       "</div>"
      ],
      "text/plain": [
       "  client_id sex  birth id_prod  price categ                        date  \\\n",
       "0    c_4410   f   1967   1_385  25.99   1.0  2021-03-22 01:40:22.782925   \n",
       "1    c_4410   f   1967   1_385  25.99   1.0  2023-02-22 01:40:22.782925   \n",
       "2    c_4410   f   1967  0_1110   4.71   0.0  2021-11-04 16:28:30.169021   \n",
       "3    c_4410   f   1967  0_1111  19.99   0.0  2021-03-22 01:27:49.480137   \n",
       "4    c_4410   f   1967  0_1111  19.99   0.0  2023-02-22 01:27:49.480137   \n",
       "\n",
       "  session_id    date_str   date_fmt  age  tranche_age  \n",
       "0     s_9707  2021-03-22 2021-03-22   57  54 à 95 ans  \n",
       "1   s_345108  2023-02-22 2023-02-22   57  54 à 95 ans  \n",
       "2   s_114715  2021-11-04 2021-11-04   57  54 à 95 ans  \n",
       "3     s_9707  2021-03-22 2021-03-22   57  54 à 95 ans  \n",
       "4   s_345108  2023-02-22 2023-02-22   57  54 à 95 ans  "
      ]
     },
     "execution_count": 210,
     "metadata": {},
     "output_type": "execute_result"
    }
   ],
   "source": [
    "datamerge2.head()"
   ]
  },
  {
   "cell_type": "code",
   "execution_count": 211,
   "id": "1129aeaa",
   "metadata": {},
   "outputs": [
    {
     "name": "stdout",
     "output_type": "stream",
     "text": [
      "Statistique de test : 1.0\n",
      "p-value_age : 0.0\n"
     ]
    }
   ],
   "source": [
    "#Test de la normalité de la variable âge Kolmogorov et Smirnoff\n",
    "stat_age, p_value_age = sp.stats.kstest(datamerge2['age'],'norm')\n",
    "print(\"Statistique de test :\", stat_age)\n",
    "print(\"p-value_age :\", p_value_age)"
   ]
  },
  {
   "cell_type": "markdown",
   "id": "b2d0481a",
   "metadata": {},
   "source": [
    "Hypothèse nulle car p.value est inférieure à 0.05"
   ]
  },
  {
   "cell_type": "code",
   "execution_count": 212,
   "id": "aad8c051",
   "metadata": {},
   "outputs": [],
   "source": [
    "#Création de catégorie pour le test de kruskall wallis\n",
    "\n",
    "catg0_age = datamerge2[datamerge2['categ']==0.0]"
   ]
  },
  {
   "cell_type": "code",
   "execution_count": 213,
   "id": "b9bacbb6",
   "metadata": {},
   "outputs": [],
   "source": [
    "catg1_age = datamerge2[datamerge2['categ']==1.0]"
   ]
  },
  {
   "cell_type": "code",
   "execution_count": 214,
   "id": "0124e4ec",
   "metadata": {},
   "outputs": [],
   "source": [
    "catg2_age = datamerge2[datamerge2['categ']==2.0]"
   ]
  },
  {
   "cell_type": "code",
   "execution_count": 219,
   "id": "1e0279ac",
   "metadata": {},
   "outputs": [
    {
     "data": {
      "image/png": "[encoded data removed]",
      "text/plain": [
       "<Figure size 640x480 with 1 Axes>"
      ]
     },
     "metadata": {},
     "output_type": "display_data"
    }
   ],
   "source": [
    "# Graphique:\n",
    "plt.boxplot([catg0_age[catg0_age['categ'] == 0.0]['age'],\n",
    "  catg1_age[catg1_age['categ'] == 1.0]['age'],\n",
    "  catg2_age[catg2_age['categ'] == 2.0]['age']], labels = [\"catégorie_0\",\"catégorie_1\",\"catégorie_2\"])\n",
    "plt.ylabel(\"Age (années)\")\n",
    "plt.title(\"Distribution des âges des acheteurs par catégories\")\n",
    "plt.show()"
   ]
  },
  {
   "cell_type": "code",
   "execution_count": 221,
   "id": "0a74f452",
   "metadata": {},
   "outputs": [
    {
     "name": "stdout",
     "output_type": "stream",
     "text": [
      "Statistique de test : 78458.43837285662\n",
      "p-value : 2.1466320003455262e-11\n"
     ]
    }
   ],
   "source": [
    "#Test de Kruskall Wallis si la variable ne suit pas une loi normale \n",
    "statistic, p_value_age = sp.stats.kruskal(catg0_age['age'],catg1_age['age'],catg2_age['age'])\n",
    "print(\"Statistique de test :\", statistic)\n",
    "print(\"p-value :\", p_value)"
   ]
  },
  {
   "cell_type": "markdown",
   "id": "ac0b4088",
   "metadata": {},
   "source": [
    "Conclusion/Recommandation : "
   ]
  },
  {
   "cell_type": "markdown",
   "id": "ed4f3013",
   "metadata": {},
   "source": [
    "p_value inférieure à 0.05  : Il y a une différence significative entre les âges des acheteurs de chaque catégories. Il y a un lien entre l'âge du client et des catégories qu'il achète. "
   ]
  },
  {
   "cell_type": "markdown",
   "id": "94d179d5",
   "metadata": {},
   "source": [
    "Plan d'action marketing : fidélisation client tranche d'âge 30-40, mettre en place des plans d'actions pour faire venir les personnes âgées en boutique (Dédicace auteurs, ateliers pour les séniors...)"
   ]
  }
 ],
 "metadata": {
  "kernelspec": {
   "display_name": "Python 3 (ipykernel)",
   "language": "python",
   "name": "python3"
  },
  "language_info": {
   "codemirror_mode": {
    "name": "ipython",
    "version": 3
   },
   "file_extension": ".py",
   "mimetype": "text/x-python",
   "name": "python",
   "nbconvert_exporter": "python",
   "pygments_lexer": "ipython3",
   "version": "3.11.5"
  }
 },
 "nbformat": 4,
 "nbformat_minor": 5
}
